{
 "cells": [
  {
   "cell_type": "markdown",
   "metadata": {},
   "source": [
    "# Loan Prediction\n"
   ]
  },
  {
   "cell_type": "markdown",
   "metadata": {},
   "source": [
    "# Problem Statment\n",
    "A Company wants to automate the loan eligibility process (real time) based on customer detail provided while filling online application form. \n",
    "These details are Gender, Marital Status, Education, Number of Dependents, Income, Loan Amount, Credit History and others. To automate this process, \n",
    "they have given a problem to identify the customers segments, those are eligible for loan amount so that they can specifically target these customers. \n",
    "Here they have provided a data set."
   ]
  },
  {
   "cell_type": "markdown",
   "metadata": {},
   "source": [
    "Data\n",
    "- Variable Descriptions:\n",
    "\n",
    "\n",
    "| Variable          \t| Description                                    \t|\n",
    "|-------------------\t|------------------------------------------------\t|\n",
    "| Loan_ID           \t| Unique Loan ID                                 \t|\n",
    "| Gender            \t| Male/ Female                                   \t|\n",
    "| Married           \t| Applicant married (Y/N)                        \t|\n",
    "| Dependents        \t| Number of dependents                           \t|\n",
    "| Education         \t| Applicant Education (Graduate/ Under Graduate) \t|\n",
    "| Self_Employed     \t| Self employed (Y/N)                            \t|\n",
    "| ApplicantIncome   \t| Applicant income                               \t|\n",
    "| CoapplicantIncome \t| Coapplicant income                             \t|\n",
    "| LoanAmount        \t| Loan amount in thousands                       \t|\n",
    "| Loan_Amount_Term  \t| Term of loan in months                         \t|\n",
    "| Credit_History    \t| credit history meets guidelines                \t|\n",
    "| Property_Area     \t| Urban/ Semi Urban/ Rural                       \t|\n",
    "| Loan_Status       \t| Loan approved (Y/N)                            \t|\n"
   ]
  },
  {
   "cell_type": "code",
   "execution_count": 1,
   "metadata": {},
   "outputs": [],
   "source": [
    "## Importing Library\n",
    "import pandas as pd\n",
    "import numpy as np\n",
    "from sklearn import preprocessing\n",
    "from sklearn.preprocessing import LabelEncoder\n",
    "import matplotlib.pyplot as plt\n",
    "%matplotlib inline\n",
    "import seaborn as sns\n"
   ]
  },
  {
   "cell_type": "code",
   "execution_count": 2,
   "metadata": {},
   "outputs": [],
   "source": [
    "# Reading the training dataset in a dataframe using Pandas\n",
    "df = pd.read_csv(\"train.csv\")\n"
   ]
  },
  {
   "cell_type": "code",
   "execution_count": 3,
   "metadata": {},
   "outputs": [
    {
     "data": {
      "text/plain": [
       "(614, 13)"
      ]
     },
     "execution_count": 3,
     "metadata": {},
     "output_type": "execute_result"
    }
   ],
   "source": [
    "df.shape\n"
   ]
  },
  {
   "cell_type": "code",
   "execution_count": 4,
   "metadata": {},
   "outputs": [
    {
     "data": {
      "text/html": [
       "<div>\n",
       "<style scoped>\n",
       "    .dataframe tbody tr th:only-of-type {\n",
       "        vertical-align: middle;\n",
       "    }\n",
       "\n",
       "    .dataframe tbody tr th {\n",
       "        vertical-align: top;\n",
       "    }\n",
       "\n",
       "    .dataframe thead th {\n",
       "        text-align: right;\n",
       "    }\n",
       "</style>\n",
       "<table border=\"1\" class=\"dataframe\">\n",
       "  <thead>\n",
       "    <tr style=\"text-align: right;\">\n",
       "      <th></th>\n",
       "      <th>Loan_ID</th>\n",
       "      <th>Gender</th>\n",
       "      <th>Married</th>\n",
       "      <th>Dependents</th>\n",
       "      <th>Education</th>\n",
       "      <th>Self_Employed</th>\n",
       "      <th>ApplicantIncome</th>\n",
       "      <th>CoapplicantIncome</th>\n",
       "      <th>LoanAmount</th>\n",
       "      <th>Loan_Amount_Term</th>\n",
       "      <th>Credit_History</th>\n",
       "      <th>Property_Area</th>\n",
       "      <th>Loan_Status</th>\n",
       "    </tr>\n",
       "  </thead>\n",
       "  <tbody>\n",
       "    <tr>\n",
       "      <th>0</th>\n",
       "      <td>LP001002</td>\n",
       "      <td>Male</td>\n",
       "      <td>No</td>\n",
       "      <td>0</td>\n",
       "      <td>Graduate</td>\n",
       "      <td>No</td>\n",
       "      <td>5849</td>\n",
       "      <td>0.0</td>\n",
       "      <td>NaN</td>\n",
       "      <td>360.0</td>\n",
       "      <td>1.0</td>\n",
       "      <td>Urban</td>\n",
       "      <td>Y</td>\n",
       "    </tr>\n",
       "    <tr>\n",
       "      <th>1</th>\n",
       "      <td>LP001003</td>\n",
       "      <td>Male</td>\n",
       "      <td>Yes</td>\n",
       "      <td>1</td>\n",
       "      <td>Graduate</td>\n",
       "      <td>No</td>\n",
       "      <td>4583</td>\n",
       "      <td>1508.0</td>\n",
       "      <td>128.0</td>\n",
       "      <td>360.0</td>\n",
       "      <td>1.0</td>\n",
       "      <td>Rural</td>\n",
       "      <td>N</td>\n",
       "    </tr>\n",
       "    <tr>\n",
       "      <th>2</th>\n",
       "      <td>LP001005</td>\n",
       "      <td>Male</td>\n",
       "      <td>Yes</td>\n",
       "      <td>0</td>\n",
       "      <td>Graduate</td>\n",
       "      <td>Yes</td>\n",
       "      <td>3000</td>\n",
       "      <td>0.0</td>\n",
       "      <td>66.0</td>\n",
       "      <td>360.0</td>\n",
       "      <td>1.0</td>\n",
       "      <td>Urban</td>\n",
       "      <td>Y</td>\n",
       "    </tr>\n",
       "    <tr>\n",
       "      <th>3</th>\n",
       "      <td>LP001006</td>\n",
       "      <td>Male</td>\n",
       "      <td>Yes</td>\n",
       "      <td>0</td>\n",
       "      <td>Not Graduate</td>\n",
       "      <td>No</td>\n",
       "      <td>2583</td>\n",
       "      <td>2358.0</td>\n",
       "      <td>120.0</td>\n",
       "      <td>360.0</td>\n",
       "      <td>1.0</td>\n",
       "      <td>Urban</td>\n",
       "      <td>Y</td>\n",
       "    </tr>\n",
       "    <tr>\n",
       "      <th>4</th>\n",
       "      <td>LP001008</td>\n",
       "      <td>Male</td>\n",
       "      <td>No</td>\n",
       "      <td>0</td>\n",
       "      <td>Graduate</td>\n",
       "      <td>No</td>\n",
       "      <td>6000</td>\n",
       "      <td>0.0</td>\n",
       "      <td>141.0</td>\n",
       "      <td>360.0</td>\n",
       "      <td>1.0</td>\n",
       "      <td>Urban</td>\n",
       "      <td>Y</td>\n",
       "    </tr>\n",
       "    <tr>\n",
       "      <th>5</th>\n",
       "      <td>LP001011</td>\n",
       "      <td>Male</td>\n",
       "      <td>Yes</td>\n",
       "      <td>2</td>\n",
       "      <td>Graduate</td>\n",
       "      <td>Yes</td>\n",
       "      <td>5417</td>\n",
       "      <td>4196.0</td>\n",
       "      <td>267.0</td>\n",
       "      <td>360.0</td>\n",
       "      <td>1.0</td>\n",
       "      <td>Urban</td>\n",
       "      <td>Y</td>\n",
       "    </tr>\n",
       "    <tr>\n",
       "      <th>6</th>\n",
       "      <td>LP001013</td>\n",
       "      <td>Male</td>\n",
       "      <td>Yes</td>\n",
       "      <td>0</td>\n",
       "      <td>Not Graduate</td>\n",
       "      <td>No</td>\n",
       "      <td>2333</td>\n",
       "      <td>1516.0</td>\n",
       "      <td>95.0</td>\n",
       "      <td>360.0</td>\n",
       "      <td>1.0</td>\n",
       "      <td>Urban</td>\n",
       "      <td>Y</td>\n",
       "    </tr>\n",
       "    <tr>\n",
       "      <th>7</th>\n",
       "      <td>LP001014</td>\n",
       "      <td>Male</td>\n",
       "      <td>Yes</td>\n",
       "      <td>3+</td>\n",
       "      <td>Graduate</td>\n",
       "      <td>No</td>\n",
       "      <td>3036</td>\n",
       "      <td>2504.0</td>\n",
       "      <td>158.0</td>\n",
       "      <td>360.0</td>\n",
       "      <td>0.0</td>\n",
       "      <td>Semiurban</td>\n",
       "      <td>N</td>\n",
       "    </tr>\n",
       "    <tr>\n",
       "      <th>8</th>\n",
       "      <td>LP001018</td>\n",
       "      <td>Male</td>\n",
       "      <td>Yes</td>\n",
       "      <td>2</td>\n",
       "      <td>Graduate</td>\n",
       "      <td>No</td>\n",
       "      <td>4006</td>\n",
       "      <td>1526.0</td>\n",
       "      <td>168.0</td>\n",
       "      <td>360.0</td>\n",
       "      <td>1.0</td>\n",
       "      <td>Urban</td>\n",
       "      <td>Y</td>\n",
       "    </tr>\n",
       "    <tr>\n",
       "      <th>9</th>\n",
       "      <td>LP001020</td>\n",
       "      <td>Male</td>\n",
       "      <td>Yes</td>\n",
       "      <td>1</td>\n",
       "      <td>Graduate</td>\n",
       "      <td>No</td>\n",
       "      <td>12841</td>\n",
       "      <td>10968.0</td>\n",
       "      <td>349.0</td>\n",
       "      <td>360.0</td>\n",
       "      <td>1.0</td>\n",
       "      <td>Semiurban</td>\n",
       "      <td>N</td>\n",
       "    </tr>\n",
       "  </tbody>\n",
       "</table>\n",
       "</div>"
      ],
      "text/plain": [
       "    Loan_ID Gender Married Dependents     Education Self_Employed  \\\n",
       "0  LP001002   Male      No          0      Graduate            No   \n",
       "1  LP001003   Male     Yes          1      Graduate            No   \n",
       "2  LP001005   Male     Yes          0      Graduate           Yes   \n",
       "3  LP001006   Male     Yes          0  Not Graduate            No   \n",
       "4  LP001008   Male      No          0      Graduate            No   \n",
       "5  LP001011   Male     Yes          2      Graduate           Yes   \n",
       "6  LP001013   Male     Yes          0  Not Graduate            No   \n",
       "7  LP001014   Male     Yes         3+      Graduate            No   \n",
       "8  LP001018   Male     Yes          2      Graduate            No   \n",
       "9  LP001020   Male     Yes          1      Graduate            No   \n",
       "\n",
       "   ApplicantIncome  CoapplicantIncome  LoanAmount  Loan_Amount_Term  \\\n",
       "0             5849                0.0         NaN             360.0   \n",
       "1             4583             1508.0       128.0             360.0   \n",
       "2             3000                0.0        66.0             360.0   \n",
       "3             2583             2358.0       120.0             360.0   \n",
       "4             6000                0.0       141.0             360.0   \n",
       "5             5417             4196.0       267.0             360.0   \n",
       "6             2333             1516.0        95.0             360.0   \n",
       "7             3036             2504.0       158.0             360.0   \n",
       "8             4006             1526.0       168.0             360.0   \n",
       "9            12841            10968.0       349.0             360.0   \n",
       "\n",
       "   Credit_History Property_Area Loan_Status  \n",
       "0             1.0         Urban           Y  \n",
       "1             1.0         Rural           N  \n",
       "2             1.0         Urban           Y  \n",
       "3             1.0         Urban           Y  \n",
       "4             1.0         Urban           Y  \n",
       "5             1.0         Urban           Y  \n",
       "6             1.0         Urban           Y  \n",
       "7             0.0     Semiurban           N  \n",
       "8             1.0         Urban           Y  \n",
       "9             1.0     Semiurban           N  "
      ]
     },
     "execution_count": 4,
     "metadata": {},
     "output_type": "execute_result"
    }
   ],
   "source": [
    "df.head(10)"
   ]
  },
  {
   "cell_type": "code",
   "execution_count": 5,
   "metadata": {},
   "outputs": [
    {
     "data": {
      "text/plain": [
       "array([360., 120., 240.,  nan, 180.,  60., 300., 480.,  36.,  84.,  12.])"
      ]
     },
     "execution_count": 5,
     "metadata": {},
     "output_type": "execute_result"
    }
   ],
   "source": [
    "df['Loan_Amount_Term'].unique()"
   ]
  },
  {
   "cell_type": "code",
   "execution_count": 6,
   "metadata": {},
   "outputs": [
    {
     "name": "stdout",
     "output_type": "stream",
     "text": [
      "<class 'pandas.core.frame.DataFrame'>\n",
      "RangeIndex: 614 entries, 0 to 613\n",
      "Data columns (total 13 columns):\n",
      " #   Column             Non-Null Count  Dtype  \n",
      "---  ------             --------------  -----  \n",
      " 0   Loan_ID            614 non-null    object \n",
      " 1   Gender             601 non-null    object \n",
      " 2   Married            611 non-null    object \n",
      " 3   Dependents         599 non-null    object \n",
      " 4   Education          614 non-null    object \n",
      " 5   Self_Employed      582 non-null    object \n",
      " 6   ApplicantIncome    614 non-null    int64  \n",
      " 7   CoapplicantIncome  614 non-null    float64\n",
      " 8   LoanAmount         592 non-null    float64\n",
      " 9   Loan_Amount_Term   600 non-null    float64\n",
      " 10  Credit_History     564 non-null    float64\n",
      " 11  Property_Area      614 non-null    object \n",
      " 12  Loan_Status        614 non-null    object \n",
      "dtypes: float64(4), int64(1), object(8)\n",
      "memory usage: 62.5+ KB\n"
     ]
    }
   ],
   "source": [
    "#Check the Information about  train Data set\n",
    "df.info()"
   ]
  },
  {
   "cell_type": "code",
   "execution_count": 7,
   "metadata": {},
   "outputs": [],
   "source": [
    "# Reading the test dataset in a dataframe using Pandas\n",
    "test = pd.read_csv(\"test.csv\")"
   ]
  },
  {
   "cell_type": "code",
   "execution_count": 8,
   "metadata": {},
   "outputs": [
    {
     "data": {
      "text/html": [
       "<div>\n",
       "<style scoped>\n",
       "    .dataframe tbody tr th:only-of-type {\n",
       "        vertical-align: middle;\n",
       "    }\n",
       "\n",
       "    .dataframe tbody tr th {\n",
       "        vertical-align: top;\n",
       "    }\n",
       "\n",
       "    .dataframe thead th {\n",
       "        text-align: right;\n",
       "    }\n",
       "</style>\n",
       "<table border=\"1\" class=\"dataframe\">\n",
       "  <thead>\n",
       "    <tr style=\"text-align: right;\">\n",
       "      <th></th>\n",
       "      <th>Loan_ID</th>\n",
       "      <th>Gender</th>\n",
       "      <th>Married</th>\n",
       "      <th>Dependents</th>\n",
       "      <th>Education</th>\n",
       "      <th>Self_Employed</th>\n",
       "      <th>ApplicantIncome</th>\n",
       "      <th>CoapplicantIncome</th>\n",
       "      <th>LoanAmount</th>\n",
       "      <th>Loan_Amount_Term</th>\n",
       "      <th>Credit_History</th>\n",
       "      <th>Property_Area</th>\n",
       "    </tr>\n",
       "  </thead>\n",
       "  <tbody>\n",
       "    <tr>\n",
       "      <th>0</th>\n",
       "      <td>LP001015</td>\n",
       "      <td>Male</td>\n",
       "      <td>Yes</td>\n",
       "      <td>0</td>\n",
       "      <td>Graduate</td>\n",
       "      <td>No</td>\n",
       "      <td>5720</td>\n",
       "      <td>0</td>\n",
       "      <td>110.0</td>\n",
       "      <td>360.0</td>\n",
       "      <td>1.0</td>\n",
       "      <td>Urban</td>\n",
       "    </tr>\n",
       "    <tr>\n",
       "      <th>1</th>\n",
       "      <td>LP001022</td>\n",
       "      <td>Male</td>\n",
       "      <td>Yes</td>\n",
       "      <td>1</td>\n",
       "      <td>Graduate</td>\n",
       "      <td>No</td>\n",
       "      <td>3076</td>\n",
       "      <td>1500</td>\n",
       "      <td>126.0</td>\n",
       "      <td>360.0</td>\n",
       "      <td>1.0</td>\n",
       "      <td>Urban</td>\n",
       "    </tr>\n",
       "    <tr>\n",
       "      <th>2</th>\n",
       "      <td>LP001031</td>\n",
       "      <td>Male</td>\n",
       "      <td>Yes</td>\n",
       "      <td>2</td>\n",
       "      <td>Graduate</td>\n",
       "      <td>No</td>\n",
       "      <td>5000</td>\n",
       "      <td>1800</td>\n",
       "      <td>208.0</td>\n",
       "      <td>360.0</td>\n",
       "      <td>1.0</td>\n",
       "      <td>Urban</td>\n",
       "    </tr>\n",
       "    <tr>\n",
       "      <th>3</th>\n",
       "      <td>LP001035</td>\n",
       "      <td>Male</td>\n",
       "      <td>Yes</td>\n",
       "      <td>2</td>\n",
       "      <td>Graduate</td>\n",
       "      <td>No</td>\n",
       "      <td>2340</td>\n",
       "      <td>2546</td>\n",
       "      <td>100.0</td>\n",
       "      <td>360.0</td>\n",
       "      <td>NaN</td>\n",
       "      <td>Urban</td>\n",
       "    </tr>\n",
       "    <tr>\n",
       "      <th>4</th>\n",
       "      <td>LP001051</td>\n",
       "      <td>Male</td>\n",
       "      <td>No</td>\n",
       "      <td>0</td>\n",
       "      <td>Not Graduate</td>\n",
       "      <td>No</td>\n",
       "      <td>3276</td>\n",
       "      <td>0</td>\n",
       "      <td>78.0</td>\n",
       "      <td>360.0</td>\n",
       "      <td>1.0</td>\n",
       "      <td>Urban</td>\n",
       "    </tr>\n",
       "    <tr>\n",
       "      <th>5</th>\n",
       "      <td>LP001054</td>\n",
       "      <td>Male</td>\n",
       "      <td>Yes</td>\n",
       "      <td>0</td>\n",
       "      <td>Not Graduate</td>\n",
       "      <td>Yes</td>\n",
       "      <td>2165</td>\n",
       "      <td>3422</td>\n",
       "      <td>152.0</td>\n",
       "      <td>360.0</td>\n",
       "      <td>1.0</td>\n",
       "      <td>Urban</td>\n",
       "    </tr>\n",
       "    <tr>\n",
       "      <th>6</th>\n",
       "      <td>LP001055</td>\n",
       "      <td>Female</td>\n",
       "      <td>No</td>\n",
       "      <td>1</td>\n",
       "      <td>Not Graduate</td>\n",
       "      <td>No</td>\n",
       "      <td>2226</td>\n",
       "      <td>0</td>\n",
       "      <td>59.0</td>\n",
       "      <td>360.0</td>\n",
       "      <td>1.0</td>\n",
       "      <td>Semiurban</td>\n",
       "    </tr>\n",
       "    <tr>\n",
       "      <th>7</th>\n",
       "      <td>LP001056</td>\n",
       "      <td>Male</td>\n",
       "      <td>Yes</td>\n",
       "      <td>2</td>\n",
       "      <td>Not Graduate</td>\n",
       "      <td>No</td>\n",
       "      <td>3881</td>\n",
       "      <td>0</td>\n",
       "      <td>147.0</td>\n",
       "      <td>360.0</td>\n",
       "      <td>0.0</td>\n",
       "      <td>Rural</td>\n",
       "    </tr>\n",
       "    <tr>\n",
       "      <th>8</th>\n",
       "      <td>LP001059</td>\n",
       "      <td>Male</td>\n",
       "      <td>Yes</td>\n",
       "      <td>2</td>\n",
       "      <td>Graduate</td>\n",
       "      <td>NaN</td>\n",
       "      <td>13633</td>\n",
       "      <td>0</td>\n",
       "      <td>280.0</td>\n",
       "      <td>240.0</td>\n",
       "      <td>1.0</td>\n",
       "      <td>Urban</td>\n",
       "    </tr>\n",
       "    <tr>\n",
       "      <th>9</th>\n",
       "      <td>LP001067</td>\n",
       "      <td>Male</td>\n",
       "      <td>No</td>\n",
       "      <td>0</td>\n",
       "      <td>Not Graduate</td>\n",
       "      <td>No</td>\n",
       "      <td>2400</td>\n",
       "      <td>2400</td>\n",
       "      <td>123.0</td>\n",
       "      <td>360.0</td>\n",
       "      <td>1.0</td>\n",
       "      <td>Semiurban</td>\n",
       "    </tr>\n",
       "  </tbody>\n",
       "</table>\n",
       "</div>"
      ],
      "text/plain": [
       "    Loan_ID  Gender Married Dependents     Education Self_Employed  \\\n",
       "0  LP001015    Male     Yes          0      Graduate            No   \n",
       "1  LP001022    Male     Yes          1      Graduate            No   \n",
       "2  LP001031    Male     Yes          2      Graduate            No   \n",
       "3  LP001035    Male     Yes          2      Graduate            No   \n",
       "4  LP001051    Male      No          0  Not Graduate            No   \n",
       "5  LP001054    Male     Yes          0  Not Graduate           Yes   \n",
       "6  LP001055  Female      No          1  Not Graduate            No   \n",
       "7  LP001056    Male     Yes          2  Not Graduate            No   \n",
       "8  LP001059    Male     Yes          2      Graduate           NaN   \n",
       "9  LP001067    Male      No          0  Not Graduate            No   \n",
       "\n",
       "   ApplicantIncome  CoapplicantIncome  LoanAmount  Loan_Amount_Term  \\\n",
       "0             5720                  0       110.0             360.0   \n",
       "1             3076               1500       126.0             360.0   \n",
       "2             5000               1800       208.0             360.0   \n",
       "3             2340               2546       100.0             360.0   \n",
       "4             3276                  0        78.0             360.0   \n",
       "5             2165               3422       152.0             360.0   \n",
       "6             2226                  0        59.0             360.0   \n",
       "7             3881                  0       147.0             360.0   \n",
       "8            13633                  0       280.0             240.0   \n",
       "9             2400               2400       123.0             360.0   \n",
       "\n",
       "   Credit_History Property_Area  \n",
       "0             1.0         Urban  \n",
       "1             1.0         Urban  \n",
       "2             1.0         Urban  \n",
       "3             NaN         Urban  \n",
       "4             1.0         Urban  \n",
       "5             1.0         Urban  \n",
       "6             1.0     Semiurban  \n",
       "7             0.0         Rural  \n",
       "8             1.0         Urban  \n",
       "9             1.0     Semiurban  "
      ]
     },
     "execution_count": 8,
     "metadata": {},
     "output_type": "execute_result"
    }
   ],
   "source": [
    "test.head(10)\n"
   ]
  },
  {
   "cell_type": "code",
   "execution_count": 9,
   "metadata": {},
   "outputs": [
    {
     "data": {
      "text/plain": [
       "(367, 12)"
      ]
     },
     "execution_count": 9,
     "metadata": {},
     "output_type": "execute_result"
    }
   ],
   "source": [
    "test.shape"
   ]
  },
  {
   "cell_type": "code",
   "execution_count": 10,
   "metadata": {},
   "outputs": [
    {
     "name": "stdout",
     "output_type": "stream",
     "text": [
      "<class 'pandas.core.frame.DataFrame'>\n",
      "RangeIndex: 367 entries, 0 to 366\n",
      "Data columns (total 12 columns):\n",
      " #   Column             Non-Null Count  Dtype  \n",
      "---  ------             --------------  -----  \n",
      " 0   Loan_ID            367 non-null    object \n",
      " 1   Gender             356 non-null    object \n",
      " 2   Married            367 non-null    object \n",
      " 3   Dependents         357 non-null    object \n",
      " 4   Education          367 non-null    object \n",
      " 5   Self_Employed      344 non-null    object \n",
      " 6   ApplicantIncome    367 non-null    int64  \n",
      " 7   CoapplicantIncome  367 non-null    int64  \n",
      " 8   LoanAmount         362 non-null    float64\n",
      " 9   Loan_Amount_Term   361 non-null    float64\n",
      " 10  Credit_History     338 non-null    float64\n",
      " 11  Property_Area      367 non-null    object \n",
      "dtypes: float64(3), int64(2), object(7)\n",
      "memory usage: 34.5+ KB\n"
     ]
    }
   ],
   "source": [
    "#Check the Information about  train Data set\n",
    "test.info()\n"
   ]
  },
  {
   "cell_type": "code",
   "execution_count": 11,
   "metadata": {},
   "outputs": [],
   "source": [
    "#Combining both train and test dataset\n",
    "\n",
    "fullData = pd.concat([df,test],axis=0, sort=True)\n"
   ]
  },
  {
   "cell_type": "code",
   "execution_count": 12,
   "metadata": {},
   "outputs": [
    {
     "data": {
      "text/plain": [
       "<bound method NDFrame.head of      ApplicantIncome  CoapplicantIncome  Credit_History Dependents  \\\n",
       "0               5849                0.0             1.0          0   \n",
       "1               4583             1508.0             1.0          1   \n",
       "2               3000                0.0             1.0          0   \n",
       "3               2583             2358.0             1.0          0   \n",
       "4               6000                0.0             1.0          0   \n",
       "..               ...                ...             ...        ...   \n",
       "362             4009             1777.0             1.0         3+   \n",
       "363             4158              709.0             1.0          0   \n",
       "364             3250             1993.0             NaN          0   \n",
       "365             5000             2393.0             1.0          0   \n",
       "366             9200                0.0             1.0          0   \n",
       "\n",
       "        Education Gender  LoanAmount  Loan_Amount_Term   Loan_ID Loan_Status  \\\n",
       "0        Graduate   Male         NaN             360.0  LP001002           Y   \n",
       "1        Graduate   Male       128.0             360.0  LP001003           N   \n",
       "2        Graduate   Male        66.0             360.0  LP001005           Y   \n",
       "3    Not Graduate   Male       120.0             360.0  LP001006           Y   \n",
       "4        Graduate   Male       141.0             360.0  LP001008           Y   \n",
       "..            ...    ...         ...               ...       ...         ...   \n",
       "362  Not Graduate   Male       113.0             360.0  LP002971         NaN   \n",
       "363      Graduate   Male       115.0             360.0  LP002975         NaN   \n",
       "364      Graduate   Male       126.0             360.0  LP002980         NaN   \n",
       "365      Graduate   Male       158.0             360.0  LP002986         NaN   \n",
       "366      Graduate   Male        98.0             180.0  LP002989         NaN   \n",
       "\n",
       "    Married Property_Area Self_Employed  \n",
       "0        No         Urban            No  \n",
       "1       Yes         Rural            No  \n",
       "2       Yes         Urban           Yes  \n",
       "3       Yes         Urban            No  \n",
       "4        No         Urban            No  \n",
       "..      ...           ...           ...  \n",
       "362     Yes         Urban           Yes  \n",
       "363     Yes         Urban            No  \n",
       "364      No     Semiurban            No  \n",
       "365     Yes         Rural            No  \n",
       "366      No         Rural           Yes  \n",
       "\n",
       "[981 rows x 13 columns]>"
      ]
     },
     "execution_count": 12,
     "metadata": {},
     "output_type": "execute_result"
    }
   ],
   "source": [
    "fullData.head # Checking data according To row"
   ]
  },
  {
   "cell_type": "code",
   "execution_count": 13,
   "metadata": {},
   "outputs": [
    {
     "name": "stdout",
     "output_type": "stream",
     "text": [
      "<class 'pandas.core.frame.DataFrame'>\n",
      "Int64Index: 981 entries, 0 to 366\n",
      "Data columns (total 13 columns):\n",
      " #   Column             Non-Null Count  Dtype  \n",
      "---  ------             --------------  -----  \n",
      " 0   ApplicantIncome    981 non-null    int64  \n",
      " 1   CoapplicantIncome  981 non-null    float64\n",
      " 2   Credit_History     902 non-null    float64\n",
      " 3   Dependents         956 non-null    object \n",
      " 4   Education          981 non-null    object \n",
      " 5   Gender             957 non-null    object \n",
      " 6   LoanAmount         954 non-null    float64\n",
      " 7   Loan_Amount_Term   961 non-null    float64\n",
      " 8   Loan_ID            981 non-null    object \n",
      " 9   Loan_Status        614 non-null    object \n",
      " 10  Married            978 non-null    object \n",
      " 11  Property_Area      981 non-null    object \n",
      " 12  Self_Employed      926 non-null    object \n",
      "dtypes: float64(4), int64(1), object(8)\n",
      "memory usage: 107.3+ KB\n"
     ]
    }
   ],
   "source": [
    "#Check the Information about  Data set\n",
    "fullData.info()"
   ]
  },
  {
   "cell_type": "code",
   "execution_count": 14,
   "metadata": {},
   "outputs": [
    {
     "data": {
      "text/plain": [
       "(981, 13)"
      ]
     },
     "execution_count": 14,
     "metadata": {},
     "output_type": "execute_result"
    }
   ],
   "source": [
    "fullData.shape"
   ]
  },
  {
   "cell_type": "code",
   "execution_count": 15,
   "metadata": {},
   "outputs": [
    {
     "data": {
      "text/plain": [
       "array(['Y', 'N', nan], dtype=object)"
      ]
     },
     "execution_count": 15,
     "metadata": {},
     "output_type": "execute_result"
    }
   ],
   "source": [
    "# Check Unique value in Target Varibale\n",
    "fullData['Loan_Status'].unique()"
   ]
  },
  {
   "cell_type": "code",
   "execution_count": 16,
   "metadata": {},
   "outputs": [
    {
     "data": {
      "text/plain": [
       "ApplicantIncome        0\n",
       "CoapplicantIncome      0\n",
       "Credit_History        79\n",
       "Dependents            25\n",
       "Education              0\n",
       "Gender                24\n",
       "LoanAmount            27\n",
       "Loan_Amount_Term      20\n",
       "Loan_ID                0\n",
       "Loan_Status          367\n",
       "Married                3\n",
       "Property_Area          0\n",
       "Self_Employed         55\n",
       "dtype: int64"
      ]
     },
     "execution_count": 16,
     "metadata": {},
     "output_type": "execute_result"
    }
   ],
   "source": [
    "#Look at the available missing values in the dataset\n",
    "fullData.isnull().sum()\n"
   ]
  },
  {
   "cell_type": "code",
   "execution_count": 17,
   "metadata": {},
   "outputs": [
    {
     "data": {
      "image/png": "[encoded data removed]",
      "text/plain": [
       "<Figure size 576x576 with 1 Axes>"
      ]
     },
     "metadata": {
      "needs_background": "light"
     },
     "output_type": "display_data"
    }
   ],
   "source": [
    "#plot Bar graph acc to variable LoanAmount by variable Gender \n",
    "plt.figure(figsize=(8,8))\n",
    "sns.barplot(x='Gender',y='LoanAmount',data=fullData)\n",
    "plt.xticks(rotation=30)\n",
    "plt.title('variable LoanAmount by variable Gender ')\n",
    "plt.show()"
   ]
  },
  {
   "cell_type": "code",
   "execution_count": 18,
   "metadata": {},
   "outputs": [
    {
     "data": {
      "image/png": "[encoded data removed]",
      "text/plain": [
       "<Figure size 432x432 with 1 Axes>"
      ]
     },
     "metadata": {
      "needs_background": "light"
     },
     "output_type": "display_data"
    }
   ],
   "source": [
    "#plot Bar graph acc to variable LoanAmount by variable Education \n",
    "plt.figure(figsize=(6,6))\n",
    "sns.barplot(x='Education',y='ApplicantIncome',data=fullData)\n",
    "plt.xticks(rotation=0)\n",
    "plt.title('variable ApplicantIncome by variable Education ')\n",
    "plt.show()"
   ]
  },
  {
   "cell_type": "code",
   "execution_count": 19,
   "metadata": {},
   "outputs": [
    {
     "data": {
      "image/png": "[encoded data removed]",
      "text/plain": [
       "<Figure size 576x576 with 1 Axes>"
      ]
     },
     "metadata": {
      "needs_background": "light"
     },
     "output_type": "display_data"
    }
   ],
   "source": [
    "#plot Bar graph acc to variable LoanAmount by Property_Area \n",
    "plt.figure(figsize=(8,8))\n",
    "sns.barplot(x='Property_Area',y='LoanAmount',data=fullData)\n",
    "plt.xticks(rotation=0)\n",
    "plt.title('variable LoanAmount by Property_Area ')\n",
    "plt.show()"
   ]
  },
  {
   "cell_type": "code",
   "execution_count": 20,
   "metadata": {},
   "outputs": [
    {
     "data": {
      "text/plain": [
       "<AxesSubplot:title={'center':'ApplicantIncome'}, xlabel='Education'>"
      ]
     },
     "execution_count": 20,
     "metadata": {},
     "output_type": "execute_result"
    },
    {
     "data": {
      "image/png": "[encoded data removed]",
      "text/plain": [
       "<Figure size 432x288 with 1 Axes>"
      ]
     },
     "metadata": {
      "needs_background": "light"
     },
     "output_type": "display_data"
    }
   ],
   "source": [
    "# Box Plot for variable ApplicantIncome by variable Education of training data set\n",
    "\n",
    "fullData.boxplot(column='ApplicantIncome', by = 'Education')"
   ]
  },
  {
   "cell_type": "markdown",
   "metadata": {},
   "source": [
    "We can see that there is no substantial different between the mean income of graduate and non-graduates.\n",
    "But there are a higher number of graduates with very high incomes, which are appearing to be the outliers"
   ]
  },
  {
   "cell_type": "code",
   "execution_count": 21,
   "metadata": {},
   "outputs": [
    {
     "data": {
      "image/png": "[encoded data removed]",
      "text/plain": [
       "<Figure size 432x432 with 1 Axes>"
      ]
     },
     "metadata": {
      "needs_background": "light"
     },
     "output_type": "display_data"
    }
   ],
   "source": [
    "plt.figure(figsize=(6,6))\n",
    "sns.barplot(x='Education',y='LoanAmount',data=fullData)\n",
    "plt.xticks(rotation=0)\n",
    "plt.title('variable ApplicantIncome by variable Education ')\n",
    "plt.show()"
   ]
  },
  {
   "cell_type": "code",
   "execution_count": 22,
   "metadata": {},
   "outputs": [
    {
     "data": {
      "text/plain": [
       "0    Y\n",
       "dtype: object"
      ]
     },
     "execution_count": 22,
     "metadata": {},
     "output_type": "execute_result"
    }
   ],
   "source": [
    "# check Mode\n",
    "fullData['Loan_Status'].mode()"
   ]
  },
  {
   "cell_type": "code",
   "execution_count": 23,
   "metadata": {},
   "outputs": [
    {
     "data": {
      "text/plain": [
       "array(['Y', 'N', nan], dtype=object)"
      ]
     },
     "execution_count": 23,
     "metadata": {},
     "output_type": "execute_result"
    }
   ],
   "source": [
    "# check Unique \n",
    "fullData['Loan_Status'].unique()"
   ]
  },
  {
   "cell_type": "code",
   "execution_count": 24,
   "metadata": {},
   "outputs": [],
   "source": [
    "# Fill NAN value According To Mode\n",
    "fullData['Loan_Status'].fillna(fullData['Loan_Status'].mode()[0],inplace=True)"
   ]
  },
  {
   "cell_type": "code",
   "execution_count": 25,
   "metadata": {},
   "outputs": [
    {
     "data": {
      "text/plain": [
       "Y    789\n",
       "N    192\n",
       "Name: Loan_Status, dtype: int64"
      ]
     },
     "execution_count": 25,
     "metadata": {},
     "output_type": "execute_result"
    }
   ],
   "source": [
    "# Values Counts\n",
    "fullData['Loan_Status'].value_counts()\n"
   ]
  },
  {
   "cell_type": "code",
   "execution_count": 26,
   "metadata": {},
   "outputs": [
    {
     "data": {
      "text/plain": [
       "1.0    754\n",
       "0.0    148\n",
       "Name: Credit_History, dtype: int64"
      ]
     },
     "execution_count": 26,
     "metadata": {},
     "output_type": "execute_result"
    }
   ],
   "source": [
    "# Values Counts\n",
    "fullData['Credit_History'].value_counts()"
   ]
  },
  {
   "cell_type": "code",
   "execution_count": 27,
   "metadata": {},
   "outputs": [
    {
     "data": {
      "text/plain": [
       "<AxesSubplot:>"
      ]
     },
     "execution_count": 27,
     "metadata": {},
     "output_type": "execute_result"
    },
    {
     "data": {
      "image/png": "[encoded data removed]",
      "text/plain": [
       "<Figure size 432x288 with 1 Axes>"
      ]
     },
     "metadata": {
      "needs_background": "light"
     },
     "output_type": "display_data"
    }
   ],
   "source": [
    "# Histogram of variable ApplicantIncome\n",
    "\n",
    "fullData['ApplicantIncome'].hist()"
   ]
  },
  {
   "cell_type": "code",
   "execution_count": 28,
   "metadata": {},
   "outputs": [
    {
     "data": {
      "text/plain": [
       "<AxesSubplot:>"
      ]
     },
     "execution_count": 28,
     "metadata": {},
     "output_type": "execute_result"
    },
    {
     "data": {
      "image/png": "[encoded data removed]",
      "text/plain": [
       "<Figure size 432x288 with 1 Axes>"
      ]
     },
     "metadata": {
      "needs_background": "light"
     },
     "output_type": "display_data"
    }
   ],
   "source": [
    "# Histogram of variable LoanAmount\n",
    "\n",
    "fullData['LoanAmount'].hist(bins=50)"
   ]
  },
  {
   "cell_type": "code",
   "execution_count": 29,
   "metadata": {},
   "outputs": [],
   "source": [
    "# Add both ApplicantIncome and CoapplicantIncome to TotalIncome\n",
    "fullData['TotalIncome'] = fullData['ApplicantIncome'] + fullData['CoapplicantIncome']\n"
   ]
  },
  {
   "cell_type": "code",
   "execution_count": 30,
   "metadata": {},
   "outputs": [
    {
     "data": {
      "text/plain": [
       "<AxesSubplot:>"
      ]
     },
     "execution_count": 30,
     "metadata": {},
     "output_type": "execute_result"
    },
    {
     "data": {
      "image/png": "[encoded data removed]",
      "text/plain": [
       "<Figure size 432x288 with 1 Axes>"
      ]
     },
     "metadata": {
      "needs_background": "light"
     },
     "output_type": "display_data"
    }
   ],
   "source": [
    "# Histogram of variable LoanAmount\n",
    "\n",
    "fullData['TotalIncome'].hist(bins=50)"
   ]
  },
  {
   "cell_type": "code",
   "execution_count": 31,
   "metadata": {},
   "outputs": [
    {
     "data": {
      "text/plain": [
       "Y    669\n",
       "N     97\n",
       "Name: Loan_Status, dtype: int64"
      ]
     },
     "execution_count": 31,
     "metadata": {},
     "output_type": "execute_result"
    }
   ],
   "source": [
    "#check Credit history=1 then check values count\n",
    "fullData['Loan_Status'][df['Credit_History']==1 ].value_counts()"
   ]
  },
  {
   "cell_type": "markdown",
   "metadata": {},
   "source": [
    "669 number of loans were approved."
   ]
  },
  {
   "cell_type": "code",
   "execution_count": 32,
   "metadata": {},
   "outputs": [
    {
     "name": "stdout",
     "output_type": "stream",
     "text": [
      "Percentage of Loan Status according to Credit: 87.13527851458885\n"
     ]
    }
   ],
   "source": [
    "#check Credit history =1 and Loan stats=yes then check % values in approal loan status\n",
    "print('Percentage of Loan Status according to Credit:', fullData['Loan_Status'][fullData['Credit_History']== 1].value_counts(normalize = True)[0]*100)\n"
   ]
  },
  {
   "cell_type": "markdown",
   "metadata": {},
   "source": [
    "87.13527851458885 % of the applicants whose loans were approved have Credit_History equals to 1"
   ]
  },
  {
   "cell_type": "code",
   "execution_count": 33,
   "metadata": {},
   "outputs": [],
   "source": [
    "#Imputing Missing values with mode for categorical variables\n",
    "\n",
    "fullData['Married'].fillna(fullData['Married'].mode()[0], inplace=True)\n",
    "fullData['Dependents'].fillna(fullData['Dependents'].mode()[0], inplace=True)\n",
    "fullData['Loan_Amount_Term'].fillna(fullData['Loan_Amount_Term'].mode()[0], inplace=True)\n",
    "fullData['Credit_History'].fillna(fullData['Credit_History'].mode()[0], inplace=True)"
   ]
  },
  {
   "cell_type": "code",
   "execution_count": 34,
   "metadata": {},
   "outputs": [
    {
     "data": {
      "text/plain": [
       "0    Male\n",
       "dtype: object"
      ]
     },
     "execution_count": 34,
     "metadata": {},
     "output_type": "execute_result"
    }
   ],
   "source": [
    "fullData['Gender'].mode()"
   ]
  },
  {
   "cell_type": "code",
   "execution_count": 35,
   "metadata": {},
   "outputs": [
    {
     "data": {
      "text/plain": [
       "array(['Male', 'Female', nan], dtype=object)"
      ]
     },
     "execution_count": 35,
     "metadata": {},
     "output_type": "execute_result"
    }
   ],
   "source": [
    "fullData['Gender'].unique()"
   ]
  },
  {
   "cell_type": "code",
   "execution_count": 36,
   "metadata": {},
   "outputs": [],
   "source": [
    "#fill values according to Gender Mode\n",
    "fullData['Gender'].fillna(fullData['Gender'].mode()[0], inplace=True)"
   ]
  },
  {
   "cell_type": "code",
   "execution_count": 37,
   "metadata": {},
   "outputs": [
    {
     "name": "stdout",
     "output_type": "stream",
     "text": [
      "Percentage of Loan Status according to Male: 80.60075093867334\n",
      "Percentage of Loan Status according to Female 79.67032967032966\n"
     ]
    }
   ],
   "source": [
    "#Percentage of Loan Status according to Male & Female\n",
    "print('Percentage of Loan Status according to Male:', fullData['Loan_Status'][fullData['Gender']== 'Male'].value_counts(normalize = True)[0]*100)\n",
    "print('Percentage of Loan Status according to Female', fullData['Loan_Status'][fullData['Gender']== 'Female'].value_counts(normalize = True)[0]*100)"
   ]
  },
  {
   "cell_type": "code",
   "execution_count": 38,
   "metadata": {},
   "outputs": [
    {
     "name": "stdout",
     "output_type": "stream",
     "text": [
      "Percentage of Loan Status according to Graduate: 81.65137614678899\n",
      "Percentage of Loan Status according to Not Graduate 76.14678899082568\n"
     ]
    }
   ],
   "source": [
    "# Percentage of Loan Status according to Graduate &  Not Graduate\n",
    "print('Percentage of Loan Status according to Graduate:', fullData['Loan_Status'][fullData['Education']== 'Graduate'].value_counts(normalize = True)[0]*100)\n",
    "print('Percentage of Loan Status according to Not Graduate', fullData['Loan_Status'][fullData['Education']== 'Not Graduate'].value_counts(normalize = True)[0]*100)"
   ]
  },
  {
   "cell_type": "code",
   "execution_count": 39,
   "metadata": {},
   "outputs": [
    {
     "data": {
      "text/plain": [
       "array(['Urban', 'Rural', 'Semiurban'], dtype=object)"
      ]
     },
     "execution_count": 39,
     "metadata": {},
     "output_type": "execute_result"
    }
   ],
   "source": [
    "fullData['Property_Area'].unique()"
   ]
  },
  {
   "cell_type": "code",
   "execution_count": 40,
   "metadata": {},
   "outputs": [
    {
     "name": "stdout",
     "output_type": "stream",
     "text": [
      "Percentage of loan Status whom property Urban: 79.82456140350878\n",
      "Percentage of loan Status whom property Rural: 76.20689655172413\n",
      "Percentage of loan Status whom property Semiurban: 84.5272206303725\n"
     ]
    }
   ],
   "source": [
    "#Percentage of Loan Status according to 'Property_Area'\n",
    "print('Percentage of loan Status whom property Urban:', fullData['Loan_Status'][fullData['Property_Area']== 'Urban'].value_counts(normalize = True)[0]*100)\n",
    "\n",
    "print('Percentage of loan Status whom property Rural:', fullData['Loan_Status'][fullData['Property_Area']== 'Rural'].value_counts(normalize = True)[0]*100)\n",
    "\n",
    "print('Percentage of loan Status whom property Semiurban:', fullData['Loan_Status'][fullData['Property_Area']== 'Semiurban'].value_counts(normalize = True)[0]*100)\n",
    "\n"
   ]
  },
  {
   "cell_type": "code",
   "execution_count": 41,
   "metadata": {},
   "outputs": [
    {
     "data": {
      "text/plain": [
       "ApplicantIncome       0\n",
       "CoapplicantIncome     0\n",
       "Credit_History        0\n",
       "Dependents            0\n",
       "Education             0\n",
       "Gender                0\n",
       "LoanAmount           27\n",
       "Loan_Amount_Term      0\n",
       "Loan_ID               0\n",
       "Loan_Status           0\n",
       "Married               0\n",
       "Property_Area         0\n",
       "Self_Employed        55\n",
       "TotalIncome           0\n",
       "dtype: int64"
      ]
     },
     "execution_count": 41,
     "metadata": {},
     "output_type": "execute_result"
    }
   ],
   "source": [
    "fullData.isnull().sum()"
   ]
  },
  {
   "cell_type": "code",
   "execution_count": 42,
   "metadata": {},
   "outputs": [],
   "source": [
    "#Imputing Missing values with mean for continuous variable\n",
    "fullData['LoanAmount'].fillna(fullData['LoanAmount'].mean(), inplace=True)\n",
    "\n",
    "fullData['Loan_Amount_Term'].fillna(fullData['Loan_Amount_Term'].mean(), inplace=True)\n",
    "fullData['ApplicantIncome'].fillna(fullData['ApplicantIncome'].mean(), inplace=True)\n",
    "fullData['CoapplicantIncome'].fillna(fullData['CoapplicantIncome'].mean(), inplace=True)"
   ]
  },
  {
   "cell_type": "code",
   "execution_count": 43,
   "metadata": {},
   "outputs": [],
   "source": [
    "#Imputing Missing values with mode for categorical variables\n",
    "fullData['Gender'].fillna(fullData['Gender'].mode()[0], inplace=True)\n",
    "fullData['Married'].fillna(fullData['Married'].mode()[0], inplace=True)\n",
    "fullData['Dependents'].fillna(fullData['Dependents'].mode()[0], inplace=True)\n",
    "fullData['Loan_Amount_Term'].fillna(fullData['Loan_Amount_Term'].mode()[0], inplace=True)\n",
    "fullData['Credit_History'].fillna(fullData['Credit_History'].mode()[0], inplace=True)\n",
    "fullData['Self_Employed'].fillna(fullData['Self_Employed'].mode()[0], inplace=True)\n"
   ]
  },
  {
   "cell_type": "code",
   "execution_count": 44,
   "metadata": {},
   "outputs": [
    {
     "data": {
      "text/plain": [
       "ApplicantIncome      0\n",
       "CoapplicantIncome    0\n",
       "Credit_History       0\n",
       "Dependents           0\n",
       "Education            0\n",
       "Gender               0\n",
       "LoanAmount           0\n",
       "Loan_Amount_Term     0\n",
       "Loan_ID              0\n",
       "Loan_Status          0\n",
       "Married              0\n",
       "Property_Area        0\n",
       "Self_Employed        0\n",
       "TotalIncome          0\n",
       "dtype: int64"
      ]
     },
     "execution_count": 44,
     "metadata": {},
     "output_type": "execute_result"
    }
   ],
   "source": [
    "#Check the  null value\n",
    "fullData.isnull().sum()\n"
   ]
  },
  {
   "cell_type": "code",
   "execution_count": 45,
   "metadata": {},
   "outputs": [
    {
     "data": {
      "text/html": [
       "<div>\n",
       "<style scoped>\n",
       "    .dataframe tbody tr th:only-of-type {\n",
       "        vertical-align: middle;\n",
       "    }\n",
       "\n",
       "    .dataframe tbody tr th {\n",
       "        vertical-align: top;\n",
       "    }\n",
       "\n",
       "    .dataframe thead th {\n",
       "        text-align: right;\n",
       "    }\n",
       "</style>\n",
       "<table border=\"1\" class=\"dataframe\">\n",
       "  <thead>\n",
       "    <tr style=\"text-align: right;\">\n",
       "      <th></th>\n",
       "      <th>ApplicantIncome</th>\n",
       "      <th>CoapplicantIncome</th>\n",
       "      <th>Credit_History</th>\n",
       "      <th>Dependents</th>\n",
       "      <th>Education</th>\n",
       "      <th>Gender</th>\n",
       "      <th>LoanAmount</th>\n",
       "      <th>Loan_Amount_Term</th>\n",
       "      <th>Loan_ID</th>\n",
       "      <th>Loan_Status</th>\n",
       "      <th>Married</th>\n",
       "      <th>Property_Area</th>\n",
       "      <th>Self_Employed</th>\n",
       "      <th>TotalIncome</th>\n",
       "    </tr>\n",
       "  </thead>\n",
       "  <tbody>\n",
       "    <tr>\n",
       "      <th>0</th>\n",
       "      <td>5849</td>\n",
       "      <td>0.0</td>\n",
       "      <td>1.0</td>\n",
       "      <td>0</td>\n",
       "      <td>Graduate</td>\n",
       "      <td>Male</td>\n",
       "      <td>142.51153</td>\n",
       "      <td>360.0</td>\n",
       "      <td>LP001002</td>\n",
       "      <td>Y</td>\n",
       "      <td>No</td>\n",
       "      <td>Urban</td>\n",
       "      <td>No</td>\n",
       "      <td>5849.0</td>\n",
       "    </tr>\n",
       "    <tr>\n",
       "      <th>1</th>\n",
       "      <td>4583</td>\n",
       "      <td>1508.0</td>\n",
       "      <td>1.0</td>\n",
       "      <td>1</td>\n",
       "      <td>Graduate</td>\n",
       "      <td>Male</td>\n",
       "      <td>128.00000</td>\n",
       "      <td>360.0</td>\n",
       "      <td>LP001003</td>\n",
       "      <td>N</td>\n",
       "      <td>Yes</td>\n",
       "      <td>Rural</td>\n",
       "      <td>No</td>\n",
       "      <td>6091.0</td>\n",
       "    </tr>\n",
       "    <tr>\n",
       "      <th>2</th>\n",
       "      <td>3000</td>\n",
       "      <td>0.0</td>\n",
       "      <td>1.0</td>\n",
       "      <td>0</td>\n",
       "      <td>Graduate</td>\n",
       "      <td>Male</td>\n",
       "      <td>66.00000</td>\n",
       "      <td>360.0</td>\n",
       "      <td>LP001005</td>\n",
       "      <td>Y</td>\n",
       "      <td>Yes</td>\n",
       "      <td>Urban</td>\n",
       "      <td>Yes</td>\n",
       "      <td>3000.0</td>\n",
       "    </tr>\n",
       "    <tr>\n",
       "      <th>3</th>\n",
       "      <td>2583</td>\n",
       "      <td>2358.0</td>\n",
       "      <td>1.0</td>\n",
       "      <td>0</td>\n",
       "      <td>Not Graduate</td>\n",
       "      <td>Male</td>\n",
       "      <td>120.00000</td>\n",
       "      <td>360.0</td>\n",
       "      <td>LP001006</td>\n",
       "      <td>Y</td>\n",
       "      <td>Yes</td>\n",
       "      <td>Urban</td>\n",
       "      <td>No</td>\n",
       "      <td>4941.0</td>\n",
       "    </tr>\n",
       "    <tr>\n",
       "      <th>4</th>\n",
       "      <td>6000</td>\n",
       "      <td>0.0</td>\n",
       "      <td>1.0</td>\n",
       "      <td>0</td>\n",
       "      <td>Graduate</td>\n",
       "      <td>Male</td>\n",
       "      <td>141.00000</td>\n",
       "      <td>360.0</td>\n",
       "      <td>LP001008</td>\n",
       "      <td>Y</td>\n",
       "      <td>No</td>\n",
       "      <td>Urban</td>\n",
       "      <td>No</td>\n",
       "      <td>6000.0</td>\n",
       "    </tr>\n",
       "    <tr>\n",
       "      <th>5</th>\n",
       "      <td>5417</td>\n",
       "      <td>4196.0</td>\n",
       "      <td>1.0</td>\n",
       "      <td>2</td>\n",
       "      <td>Graduate</td>\n",
       "      <td>Male</td>\n",
       "      <td>267.00000</td>\n",
       "      <td>360.0</td>\n",
       "      <td>LP001011</td>\n",
       "      <td>Y</td>\n",
       "      <td>Yes</td>\n",
       "      <td>Urban</td>\n",
       "      <td>Yes</td>\n",
       "      <td>9613.0</td>\n",
       "    </tr>\n",
       "    <tr>\n",
       "      <th>6</th>\n",
       "      <td>2333</td>\n",
       "      <td>1516.0</td>\n",
       "      <td>1.0</td>\n",
       "      <td>0</td>\n",
       "      <td>Not Graduate</td>\n",
       "      <td>Male</td>\n",
       "      <td>95.00000</td>\n",
       "      <td>360.0</td>\n",
       "      <td>LP001013</td>\n",
       "      <td>Y</td>\n",
       "      <td>Yes</td>\n",
       "      <td>Urban</td>\n",
       "      <td>No</td>\n",
       "      <td>3849.0</td>\n",
       "    </tr>\n",
       "    <tr>\n",
       "      <th>7</th>\n",
       "      <td>3036</td>\n",
       "      <td>2504.0</td>\n",
       "      <td>0.0</td>\n",
       "      <td>3+</td>\n",
       "      <td>Graduate</td>\n",
       "      <td>Male</td>\n",
       "      <td>158.00000</td>\n",
       "      <td>360.0</td>\n",
       "      <td>LP001014</td>\n",
       "      <td>N</td>\n",
       "      <td>Yes</td>\n",
       "      <td>Semiurban</td>\n",
       "      <td>No</td>\n",
       "      <td>5540.0</td>\n",
       "    </tr>\n",
       "    <tr>\n",
       "      <th>8</th>\n",
       "      <td>4006</td>\n",
       "      <td>1526.0</td>\n",
       "      <td>1.0</td>\n",
       "      <td>2</td>\n",
       "      <td>Graduate</td>\n",
       "      <td>Male</td>\n",
       "      <td>168.00000</td>\n",
       "      <td>360.0</td>\n",
       "      <td>LP001018</td>\n",
       "      <td>Y</td>\n",
       "      <td>Yes</td>\n",
       "      <td>Urban</td>\n",
       "      <td>No</td>\n",
       "      <td>5532.0</td>\n",
       "    </tr>\n",
       "    <tr>\n",
       "      <th>9</th>\n",
       "      <td>12841</td>\n",
       "      <td>10968.0</td>\n",
       "      <td>1.0</td>\n",
       "      <td>1</td>\n",
       "      <td>Graduate</td>\n",
       "      <td>Male</td>\n",
       "      <td>349.00000</td>\n",
       "      <td>360.0</td>\n",
       "      <td>LP001020</td>\n",
       "      <td>N</td>\n",
       "      <td>Yes</td>\n",
       "      <td>Semiurban</td>\n",
       "      <td>No</td>\n",
       "      <td>23809.0</td>\n",
       "    </tr>\n",
       "  </tbody>\n",
       "</table>\n",
       "</div>"
      ],
      "text/plain": [
       "   ApplicantIncome  CoapplicantIncome  Credit_History Dependents  \\\n",
       "0             5849                0.0             1.0          0   \n",
       "1             4583             1508.0             1.0          1   \n",
       "2             3000                0.0             1.0          0   \n",
       "3             2583             2358.0             1.0          0   \n",
       "4             6000                0.0             1.0          0   \n",
       "5             5417             4196.0             1.0          2   \n",
       "6             2333             1516.0             1.0          0   \n",
       "7             3036             2504.0             0.0         3+   \n",
       "8             4006             1526.0             1.0          2   \n",
       "9            12841            10968.0             1.0          1   \n",
       "\n",
       "      Education Gender  LoanAmount  Loan_Amount_Term   Loan_ID Loan_Status  \\\n",
       "0      Graduate   Male   142.51153             360.0  LP001002           Y   \n",
       "1      Graduate   Male   128.00000             360.0  LP001003           N   \n",
       "2      Graduate   Male    66.00000             360.0  LP001005           Y   \n",
       "3  Not Graduate   Male   120.00000             360.0  LP001006           Y   \n",
       "4      Graduate   Male   141.00000             360.0  LP001008           Y   \n",
       "5      Graduate   Male   267.00000             360.0  LP001011           Y   \n",
       "6  Not Graduate   Male    95.00000             360.0  LP001013           Y   \n",
       "7      Graduate   Male   158.00000             360.0  LP001014           N   \n",
       "8      Graduate   Male   168.00000             360.0  LP001018           Y   \n",
       "9      Graduate   Male   349.00000             360.0  LP001020           N   \n",
       "\n",
       "  Married Property_Area Self_Employed  TotalIncome  \n",
       "0      No         Urban            No       5849.0  \n",
       "1     Yes         Rural            No       6091.0  \n",
       "2     Yes         Urban           Yes       3000.0  \n",
       "3     Yes         Urban            No       4941.0  \n",
       "4      No         Urban            No       6000.0  \n",
       "5     Yes         Urban           Yes       9613.0  \n",
       "6     Yes         Urban            No       3849.0  \n",
       "7     Yes     Semiurban            No       5540.0  \n",
       "8     Yes         Urban            No       5532.0  \n",
       "9     Yes     Semiurban            No      23809.0  "
      ]
     },
     "execution_count": 45,
     "metadata": {},
     "output_type": "execute_result"
    }
   ],
   "source": [
    "fullData.head(10)"
   ]
  },
  {
   "cell_type": "code",
   "execution_count": 46,
   "metadata": {},
   "outputs": [],
   "source": [
    "# Convert all non-numeric values to number\n",
    "cat=['Gender','Married','Dependents','Education','Credit_History','Self_Employed','Property_Area','Loan_Status']\n"
   ]
  },
  {
   "cell_type": "code",
   "execution_count": 47,
   "metadata": {},
   "outputs": [
    {
     "data": {
      "text/plain": [
       "ApplicantIncome        int64\n",
       "CoapplicantIncome    float64\n",
       "Credit_History         int32\n",
       "Dependents             int32\n",
       "Education              int32\n",
       "Gender                 int32\n",
       "LoanAmount           float64\n",
       "Loan_Amount_Term     float64\n",
       "Loan_ID               object\n",
       "Loan_Status            int32\n",
       "Married                int32\n",
       "Property_Area          int32\n",
       "Self_Employed          int32\n",
       "TotalIncome          float64\n",
       "dtype: object"
      ]
     },
     "execution_count": 47,
     "metadata": {},
     "output_type": "execute_result"
    }
   ],
   "source": [
    "# non-numeric values to number like(0,1)\n",
    "for var in cat:\n",
    "    le = preprocessing.LabelEncoder()\n",
    "    fullData[var]=le.fit_transform(fullData[var].astype('str'))\n",
    "fullData.dtypes"
   ]
  },
  {
   "cell_type": "code",
   "execution_count": 48,
   "metadata": {},
   "outputs": [
    {
     "data": {
      "text/html": [
       "<div>\n",
       "<style scoped>\n",
       "    .dataframe tbody tr th:only-of-type {\n",
       "        vertical-align: middle;\n",
       "    }\n",
       "\n",
       "    .dataframe tbody tr th {\n",
       "        vertical-align: top;\n",
       "    }\n",
       "\n",
       "    .dataframe thead th {\n",
       "        text-align: right;\n",
       "    }\n",
       "</style>\n",
       "<table border=\"1\" class=\"dataframe\">\n",
       "  <thead>\n",
       "    <tr style=\"text-align: right;\">\n",
       "      <th></th>\n",
       "      <th>ApplicantIncome</th>\n",
       "      <th>CoapplicantIncome</th>\n",
       "      <th>Credit_History</th>\n",
       "      <th>Dependents</th>\n",
       "      <th>Education</th>\n",
       "      <th>Gender</th>\n",
       "      <th>LoanAmount</th>\n",
       "      <th>Loan_Amount_Term</th>\n",
       "      <th>Loan_ID</th>\n",
       "      <th>Loan_Status</th>\n",
       "      <th>Married</th>\n",
       "      <th>Property_Area</th>\n",
       "      <th>Self_Employed</th>\n",
       "      <th>TotalIncome</th>\n",
       "    </tr>\n",
       "  </thead>\n",
       "  <tbody>\n",
       "    <tr>\n",
       "      <th>0</th>\n",
       "      <td>5849</td>\n",
       "      <td>0.0</td>\n",
       "      <td>1</td>\n",
       "      <td>0</td>\n",
       "      <td>0</td>\n",
       "      <td>1</td>\n",
       "      <td>142.51153</td>\n",
       "      <td>360.0</td>\n",
       "      <td>LP001002</td>\n",
       "      <td>1</td>\n",
       "      <td>0</td>\n",
       "      <td>2</td>\n",
       "      <td>0</td>\n",
       "      <td>5849.0</td>\n",
       "    </tr>\n",
       "    <tr>\n",
       "      <th>1</th>\n",
       "      <td>4583</td>\n",
       "      <td>1508.0</td>\n",
       "      <td>1</td>\n",
       "      <td>1</td>\n",
       "      <td>0</td>\n",
       "      <td>1</td>\n",
       "      <td>128.00000</td>\n",
       "      <td>360.0</td>\n",
       "      <td>LP001003</td>\n",
       "      <td>0</td>\n",
       "      <td>1</td>\n",
       "      <td>0</td>\n",
       "      <td>0</td>\n",
       "      <td>6091.0</td>\n",
       "    </tr>\n",
       "    <tr>\n",
       "      <th>2</th>\n",
       "      <td>3000</td>\n",
       "      <td>0.0</td>\n",
       "      <td>1</td>\n",
       "      <td>0</td>\n",
       "      <td>0</td>\n",
       "      <td>1</td>\n",
       "      <td>66.00000</td>\n",
       "      <td>360.0</td>\n",
       "      <td>LP001005</td>\n",
       "      <td>1</td>\n",
       "      <td>1</td>\n",
       "      <td>2</td>\n",
       "      <td>1</td>\n",
       "      <td>3000.0</td>\n",
       "    </tr>\n",
       "    <tr>\n",
       "      <th>3</th>\n",
       "      <td>2583</td>\n",
       "      <td>2358.0</td>\n",
       "      <td>1</td>\n",
       "      <td>0</td>\n",
       "      <td>1</td>\n",
       "      <td>1</td>\n",
       "      <td>120.00000</td>\n",
       "      <td>360.0</td>\n",
       "      <td>LP001006</td>\n",
       "      <td>1</td>\n",
       "      <td>1</td>\n",
       "      <td>2</td>\n",
       "      <td>0</td>\n",
       "      <td>4941.0</td>\n",
       "    </tr>\n",
       "    <tr>\n",
       "      <th>4</th>\n",
       "      <td>6000</td>\n",
       "      <td>0.0</td>\n",
       "      <td>1</td>\n",
       "      <td>0</td>\n",
       "      <td>0</td>\n",
       "      <td>1</td>\n",
       "      <td>141.00000</td>\n",
       "      <td>360.0</td>\n",
       "      <td>LP001008</td>\n",
       "      <td>1</td>\n",
       "      <td>0</td>\n",
       "      <td>2</td>\n",
       "      <td>0</td>\n",
       "      <td>6000.0</td>\n",
       "    </tr>\n",
       "  </tbody>\n",
       "</table>\n",
       "</div>"
      ],
      "text/plain": [
       "   ApplicantIncome  CoapplicantIncome  Credit_History  Dependents  Education  \\\n",
       "0             5849                0.0               1           0          0   \n",
       "1             4583             1508.0               1           1          0   \n",
       "2             3000                0.0               1           0          0   \n",
       "3             2583             2358.0               1           0          1   \n",
       "4             6000                0.0               1           0          0   \n",
       "\n",
       "   Gender  LoanAmount  Loan_Amount_Term   Loan_ID  Loan_Status  Married  \\\n",
       "0       1   142.51153             360.0  LP001002            1        0   \n",
       "1       1   128.00000             360.0  LP001003            0        1   \n",
       "2       1    66.00000             360.0  LP001005            1        1   \n",
       "3       1   120.00000             360.0  LP001006            1        1   \n",
       "4       1   141.00000             360.0  LP001008            1        0   \n",
       "\n",
       "   Property_Area  Self_Employed  TotalIncome  \n",
       "0              2              0       5849.0  \n",
       "1              0              0       6091.0  \n",
       "2              2              1       3000.0  \n",
       "3              2              0       4941.0  \n",
       "4              2              0       6000.0  "
      ]
     },
     "execution_count": 48,
     "metadata": {},
     "output_type": "execute_result"
    }
   ],
   "source": [
    "fullData.head()"
   ]
  },
  {
   "cell_type": "code",
   "execution_count": 49,
   "metadata": {},
   "outputs": [
    {
     "data": {
      "text/html": [
       "<div>\n",
       "<style scoped>\n",
       "    .dataframe tbody tr th:only-of-type {\n",
       "        vertical-align: middle;\n",
       "    }\n",
       "\n",
       "    .dataframe tbody tr th {\n",
       "        vertical-align: top;\n",
       "    }\n",
       "\n",
       "    .dataframe thead th {\n",
       "        text-align: right;\n",
       "    }\n",
       "</style>\n",
       "<table border=\"1\" class=\"dataframe\">\n",
       "  <thead>\n",
       "    <tr style=\"text-align: right;\">\n",
       "      <th></th>\n",
       "      <th>count</th>\n",
       "      <th>mean</th>\n",
       "      <th>std</th>\n",
       "      <th>min</th>\n",
       "      <th>25%</th>\n",
       "      <th>50%</th>\n",
       "      <th>75%</th>\n",
       "      <th>max</th>\n",
       "    </tr>\n",
       "  </thead>\n",
       "  <tbody>\n",
       "    <tr>\n",
       "      <th>ApplicantIncome</th>\n",
       "      <td>981.0</td>\n",
       "      <td>5179.795107</td>\n",
       "      <td>5695.104533</td>\n",
       "      <td>0.0</td>\n",
       "      <td>2875.0</td>\n",
       "      <td>3800.0</td>\n",
       "      <td>5516.0</td>\n",
       "      <td>81000.0</td>\n",
       "    </tr>\n",
       "    <tr>\n",
       "      <th>CoapplicantIncome</th>\n",
       "      <td>981.0</td>\n",
       "      <td>1601.916330</td>\n",
       "      <td>2718.772806</td>\n",
       "      <td>0.0</td>\n",
       "      <td>0.0</td>\n",
       "      <td>1110.0</td>\n",
       "      <td>2365.0</td>\n",
       "      <td>41667.0</td>\n",
       "    </tr>\n",
       "    <tr>\n",
       "      <th>Credit_History</th>\n",
       "      <td>981.0</td>\n",
       "      <td>0.849134</td>\n",
       "      <td>0.358101</td>\n",
       "      <td>0.0</td>\n",
       "      <td>1.0</td>\n",
       "      <td>1.0</td>\n",
       "      <td>1.0</td>\n",
       "      <td>1.0</td>\n",
       "    </tr>\n",
       "    <tr>\n",
       "      <th>Dependents</th>\n",
       "      <td>981.0</td>\n",
       "      <td>0.767584</td>\n",
       "      <td>1.030657</td>\n",
       "      <td>0.0</td>\n",
       "      <td>0.0</td>\n",
       "      <td>0.0</td>\n",
       "      <td>2.0</td>\n",
       "      <td>3.0</td>\n",
       "    </tr>\n",
       "    <tr>\n",
       "      <th>Education</th>\n",
       "      <td>981.0</td>\n",
       "      <td>0.222222</td>\n",
       "      <td>0.415952</td>\n",
       "      <td>0.0</td>\n",
       "      <td>0.0</td>\n",
       "      <td>0.0</td>\n",
       "      <td>0.0</td>\n",
       "      <td>1.0</td>\n",
       "    </tr>\n",
       "    <tr>\n",
       "      <th>Gender</th>\n",
       "      <td>981.0</td>\n",
       "      <td>0.814475</td>\n",
       "      <td>0.388921</td>\n",
       "      <td>0.0</td>\n",
       "      <td>1.0</td>\n",
       "      <td>1.0</td>\n",
       "      <td>1.0</td>\n",
       "      <td>1.0</td>\n",
       "    </tr>\n",
       "    <tr>\n",
       "      <th>LoanAmount</th>\n",
       "      <td>981.0</td>\n",
       "      <td>142.511530</td>\n",
       "      <td>76.347770</td>\n",
       "      <td>9.0</td>\n",
       "      <td>101.0</td>\n",
       "      <td>128.0</td>\n",
       "      <td>160.0</td>\n",
       "      <td>700.0</td>\n",
       "    </tr>\n",
       "    <tr>\n",
       "      <th>Loan_Amount_Term</th>\n",
       "      <td>981.0</td>\n",
       "      <td>342.564730</td>\n",
       "      <td>64.482011</td>\n",
       "      <td>6.0</td>\n",
       "      <td>360.0</td>\n",
       "      <td>360.0</td>\n",
       "      <td>360.0</td>\n",
       "      <td>480.0</td>\n",
       "    </tr>\n",
       "    <tr>\n",
       "      <th>Loan_Status</th>\n",
       "      <td>981.0</td>\n",
       "      <td>0.804281</td>\n",
       "      <td>0.396955</td>\n",
       "      <td>0.0</td>\n",
       "      <td>1.0</td>\n",
       "      <td>1.0</td>\n",
       "      <td>1.0</td>\n",
       "      <td>1.0</td>\n",
       "    </tr>\n",
       "    <tr>\n",
       "      <th>Married</th>\n",
       "      <td>981.0</td>\n",
       "      <td>0.646279</td>\n",
       "      <td>0.478368</td>\n",
       "      <td>0.0</td>\n",
       "      <td>0.0</td>\n",
       "      <td>1.0</td>\n",
       "      <td>1.0</td>\n",
       "      <td>1.0</td>\n",
       "    </tr>\n",
       "    <tr>\n",
       "      <th>Property_Area</th>\n",
       "      <td>981.0</td>\n",
       "      <td>1.053007</td>\n",
       "      <td>0.801302</td>\n",
       "      <td>0.0</td>\n",
       "      <td>0.0</td>\n",
       "      <td>1.0</td>\n",
       "      <td>2.0</td>\n",
       "      <td>2.0</td>\n",
       "    </tr>\n",
       "    <tr>\n",
       "      <th>Self_Employed</th>\n",
       "      <td>981.0</td>\n",
       "      <td>0.121305</td>\n",
       "      <td>0.326648</td>\n",
       "      <td>0.0</td>\n",
       "      <td>0.0</td>\n",
       "      <td>0.0</td>\n",
       "      <td>0.0</td>\n",
       "      <td>1.0</td>\n",
       "    </tr>\n",
       "    <tr>\n",
       "      <th>TotalIncome</th>\n",
       "      <td>981.0</td>\n",
       "      <td>6781.711437</td>\n",
       "      <td>6023.952550</td>\n",
       "      <td>1442.0</td>\n",
       "      <td>4166.0</td>\n",
       "      <td>5314.0</td>\n",
       "      <td>7308.0</td>\n",
       "      <td>81000.0</td>\n",
       "    </tr>\n",
       "  </tbody>\n",
       "</table>\n",
       "</div>"
      ],
      "text/plain": [
       "                   count         mean          std     min     25%     50%  \\\n",
       "ApplicantIncome    981.0  5179.795107  5695.104533     0.0  2875.0  3800.0   \n",
       "CoapplicantIncome  981.0  1601.916330  2718.772806     0.0     0.0  1110.0   \n",
       "Credit_History     981.0     0.849134     0.358101     0.0     1.0     1.0   \n",
       "Dependents         981.0     0.767584     1.030657     0.0     0.0     0.0   \n",
       "Education          981.0     0.222222     0.415952     0.0     0.0     0.0   \n",
       "Gender             981.0     0.814475     0.388921     0.0     1.0     1.0   \n",
       "LoanAmount         981.0   142.511530    76.347770     9.0   101.0   128.0   \n",
       "Loan_Amount_Term   981.0   342.564730    64.482011     6.0   360.0   360.0   \n",
       "Loan_Status        981.0     0.804281     0.396955     0.0     1.0     1.0   \n",
       "Married            981.0     0.646279     0.478368     0.0     0.0     1.0   \n",
       "Property_Area      981.0     1.053007     0.801302     0.0     0.0     1.0   \n",
       "Self_Employed      981.0     0.121305     0.326648     0.0     0.0     0.0   \n",
       "TotalIncome        981.0  6781.711437  6023.952550  1442.0  4166.0  5314.0   \n",
       "\n",
       "                      75%      max  \n",
       "ApplicantIncome    5516.0  81000.0  \n",
       "CoapplicantIncome  2365.0  41667.0  \n",
       "Credit_History        1.0      1.0  \n",
       "Dependents            2.0      3.0  \n",
       "Education             0.0      1.0  \n",
       "Gender                1.0      1.0  \n",
       "LoanAmount          160.0    700.0  \n",
       "Loan_Amount_Term    360.0    480.0  \n",
       "Loan_Status           1.0      1.0  \n",
       "Married               1.0      1.0  \n",
       "Property_Area         2.0      2.0  \n",
       "Self_Employed         0.0      1.0  \n",
       "TotalIncome        7308.0  81000.0  "
      ]
     },
     "execution_count": 49,
     "metadata": {},
     "output_type": "execute_result"
    }
   ],
   "source": [
    "#describe the data set check column static values\n",
    "fullData.describe().transpose()"
   ]
  },
  {
   "cell_type": "code",
   "execution_count": 50,
   "metadata": {},
   "outputs": [
    {
     "data": {
      "image/png": "[encoded data removed]",
      "text/plain": [
       "<Figure size 720x720 with 2 Axes>"
      ]
     },
     "metadata": {
      "needs_background": "light"
     },
     "output_type": "display_data"
    }
   ],
   "source": [
    "# corr with data set\n",
    "plt.subplots(figsize=(10, 10))\n",
    "sns.heatmap(fullData.corr(), annot = True, cmap=\"YlGnBu\")\n",
    "plt.show()"
   ]
  },
  {
   "cell_type": "markdown",
   "metadata": {},
   "source": [
    "then we Observe that Maximun corr with credit history then our target variable is \"Loan status \"then fit the model"
   ]
  },
  {
   "cell_type": "code",
   "execution_count": 51,
   "metadata": {},
   "outputs": [],
   "source": [
    "# import Logistic regtression model and Fit\n",
    "from sklearn.linear_model import LogisticRegression\n",
    "from sklearn.model_selection import train_test_split\n",
    "from sklearn import preprocessing\n"
   ]
  },
  {
   "cell_type": "code",
   "execution_count": 52,
   "metadata": {},
   "outputs": [],
   "source": [
    "X_train, X_test, y_train, y_test = train_test_split(fullData.drop(['Loan_Status','Loan_ID'], axis = 1),\n",
    "                                                    fullData['Loan_Status'],\n",
    "                                                    test_size=0.30, \n",
    "                                                    random_state=8)"
   ]
  },
  {
   "cell_type": "code",
   "execution_count": 53,
   "metadata": {},
   "outputs": [
    {
     "name": "stderr",
     "output_type": "stream",
     "text": [
      "C:\\ProgramData\\Anaconda3\\lib\\site-packages\\sklearn\\linear_model\\_logistic.py:763: ConvergenceWarning: lbfgs failed to converge (status=1):\n",
      "STOP: TOTAL NO. of ITERATIONS REACHED LIMIT.\n",
      "\n",
      "Increase the number of iterations (max_iter) or scale the data as shown in:\n",
      "    https://scikit-learn.org/stable/modules/preprocessing.html\n",
      "Please also refer to the documentation for alternative solver options:\n",
      "    https://scikit-learn.org/stable/modules/linear_model.html#logistic-regression\n",
      "  n_iter_i = _check_optimize_result(\n"
     ]
    },
    {
     "data": {
      "text/plain": [
       "LogisticRegression()"
      ]
     },
     "execution_count": 53,
     "metadata": {},
     "output_type": "execute_result"
    }
   ],
   "source": [
    "logmodel = LogisticRegression()\n",
    "logmodel.fit(X_train,y_train)\n"
   ]
  },
  {
   "cell_type": "code",
   "execution_count": 54,
   "metadata": {},
   "outputs": [
    {
     "data": {
      "text/html": [
       "<div>\n",
       "<style scoped>\n",
       "    .dataframe tbody tr th:only-of-type {\n",
       "        vertical-align: middle;\n",
       "    }\n",
       "\n",
       "    .dataframe tbody tr th {\n",
       "        vertical-align: top;\n",
       "    }\n",
       "\n",
       "    .dataframe thead th {\n",
       "        text-align: right;\n",
       "    }\n",
       "</style>\n",
       "<table border=\"1\" class=\"dataframe\">\n",
       "  <thead>\n",
       "    <tr style=\"text-align: right;\">\n",
       "      <th></th>\n",
       "      <th>ApplicantIncome</th>\n",
       "      <th>CoapplicantIncome</th>\n",
       "      <th>Credit_History</th>\n",
       "      <th>Dependents</th>\n",
       "      <th>Education</th>\n",
       "      <th>Gender</th>\n",
       "      <th>LoanAmount</th>\n",
       "      <th>Loan_Amount_Term</th>\n",
       "      <th>Married</th>\n",
       "      <th>Property_Area</th>\n",
       "      <th>Self_Employed</th>\n",
       "      <th>TotalIncome</th>\n",
       "    </tr>\n",
       "  </thead>\n",
       "  <tbody>\n",
       "    <tr>\n",
       "      <th>379</th>\n",
       "      <td>5391</td>\n",
       "      <td>0.0</td>\n",
       "      <td>1</td>\n",
       "      <td>2</td>\n",
       "      <td>0</td>\n",
       "      <td>1</td>\n",
       "      <td>130.0</td>\n",
       "      <td>360.0</td>\n",
       "      <td>1</td>\n",
       "      <td>2</td>\n",
       "      <td>0</td>\n",
       "      <td>5391.0</td>\n",
       "    </tr>\n",
       "    <tr>\n",
       "      <th>193</th>\n",
       "      <td>3858</td>\n",
       "      <td>0.0</td>\n",
       "      <td>1</td>\n",
       "      <td>0</td>\n",
       "      <td>0</td>\n",
       "      <td>1</td>\n",
       "      <td>76.0</td>\n",
       "      <td>360.0</td>\n",
       "      <td>0</td>\n",
       "      <td>1</td>\n",
       "      <td>0</td>\n",
       "      <td>3858.0</td>\n",
       "    </tr>\n",
       "    <tr>\n",
       "      <th>168</th>\n",
       "      <td>1750</td>\n",
       "      <td>2935.0</td>\n",
       "      <td>0</td>\n",
       "      <td>3</td>\n",
       "      <td>0</td>\n",
       "      <td>0</td>\n",
       "      <td>94.0</td>\n",
       "      <td>360.0</td>\n",
       "      <td>1</td>\n",
       "      <td>1</td>\n",
       "      <td>0</td>\n",
       "      <td>4685.0</td>\n",
       "    </tr>\n",
       "    <tr>\n",
       "      <th>302</th>\n",
       "      <td>5000</td>\n",
       "      <td>0.0</td>\n",
       "      <td>1</td>\n",
       "      <td>0</td>\n",
       "      <td>0</td>\n",
       "      <td>0</td>\n",
       "      <td>132.0</td>\n",
       "      <td>360.0</td>\n",
       "      <td>0</td>\n",
       "      <td>0</td>\n",
       "      <td>0</td>\n",
       "      <td>5000.0</td>\n",
       "    </tr>\n",
       "    <tr>\n",
       "      <th>72</th>\n",
       "      <td>4083</td>\n",
       "      <td>1775.0</td>\n",
       "      <td>1</td>\n",
       "      <td>1</td>\n",
       "      <td>0</td>\n",
       "      <td>1</td>\n",
       "      <td>139.0</td>\n",
       "      <td>60.0</td>\n",
       "      <td>1</td>\n",
       "      <td>2</td>\n",
       "      <td>0</td>\n",
       "      <td>5858.0</td>\n",
       "    </tr>\n",
       "  </tbody>\n",
       "</table>\n",
       "</div>"
      ],
      "text/plain": [
       "     ApplicantIncome  CoapplicantIncome  Credit_History  Dependents  \\\n",
       "379             5391                0.0               1           2   \n",
       "193             3858                0.0               1           0   \n",
       "168             1750             2935.0               0           3   \n",
       "302             5000                0.0               1           0   \n",
       "72              4083             1775.0               1           1   \n",
       "\n",
       "     Education  Gender  LoanAmount  Loan_Amount_Term  Married  Property_Area  \\\n",
       "379          0       1       130.0             360.0        1              2   \n",
       "193          0       1        76.0             360.0        0              1   \n",
       "168          0       0        94.0             360.0        1              1   \n",
       "302          0       0       132.0             360.0        0              0   \n",
       "72           0       1       139.0              60.0        1              2   \n",
       "\n",
       "     Self_Employed  TotalIncome  \n",
       "379              0       5391.0  \n",
       "193              0       3858.0  \n",
       "168              0       4685.0  \n",
       "302              0       5000.0  \n",
       "72               0       5858.0  "
      ]
     },
     "execution_count": 54,
     "metadata": {},
     "output_type": "execute_result"
    }
   ],
   "source": [
    "#Check  prediction model\n",
    "prediction = logmodel.predict(X_test)\n",
    "X_test.head()"
   ]
  },
  {
   "cell_type": "code",
   "execution_count": 61,
   "metadata": {},
   "outputs": [
    {
     "data": {
      "text/plain": [
       "(295, 12)"
      ]
     },
     "execution_count": 61,
     "metadata": {},
     "output_type": "execute_result"
    }
   ],
   "source": [
    "X_test.shape"
   ]
  },
  {
   "cell_type": "code",
   "execution_count": 55,
   "metadata": {},
   "outputs": [
    {
     "name": "stdout",
     "output_type": "stream",
     "text": [
      "81.01694915254237 %\n"
     ]
    }
   ],
   "source": [
    "# accuracy Of model\n",
    "accuracy = logmodel.score(X_test, y_test)\n",
    "print(accuracy*100, '%')\n"
   ]
  },
  {
   "cell_type": "code",
   "execution_count": 56,
   "metadata": {},
   "outputs": [
    {
     "data": {
      "text/plain": [
       "array([[ 12,  40],\n",
       "       [ 16, 227]], dtype=int64)"
      ]
     },
     "execution_count": 56,
     "metadata": {},
     "output_type": "execute_result"
    }
   ],
   "source": [
    "#check Confusion matrix\n",
    "from sklearn.metrics import confusion_matrix\n",
    "confusion_matrix(y_test, prediction)"
   ]
  },
  {
   "cell_type": "code",
   "execution_count": 57,
   "metadata": {},
   "outputs": [
    {
     "name": "stdout",
     "output_type": "stream",
     "text": [
      "              precision    recall  f1-score   support\n",
      "\n",
      "           0       0.43      0.23      0.30        52\n",
      "           1       0.85      0.93      0.89       243\n",
      "\n",
      "    accuracy                           0.81       295\n",
      "   macro avg       0.64      0.58      0.60       295\n",
      "weighted avg       0.78      0.81      0.79       295\n",
      "\n"
     ]
    }
   ],
   "source": [
    "#classsification Report\n",
    "from sklearn.metrics import classification_report\n",
    "print(classification_report(y_test, prediction))"
   ]
  },
  {
   "cell_type": "code",
   "execution_count": 60,
   "metadata": {},
   "outputs": [],
   "source": [
    "import pickle\n",
    "pickle.dump(logmodel, open('model.pkl','wb'))"
   ]
  },
  {
   "cell_type": "code",
   "execution_count": null,
   "metadata": {},
   "outputs": [],
   "source": []
  },
  {
   "cell_type": "markdown",
   "metadata": {},
   "source": [
    "# assiagn X & Y"
   ]
  },
  {
   "cell_type": "code",
   "execution_count": 57,
   "metadata": {},
   "outputs": [],
   "source": [
    "X=X_train\n"
   ]
  },
  {
   "cell_type": "code",
   "execution_count": 58,
   "metadata": {},
   "outputs": [],
   "source": [
    "y=y_train"
   ]
  },
  {
   "cell_type": "code",
   "execution_count": 75,
   "metadata": {},
   "outputs": [
    {
     "name": "stdout",
     "output_type": "stream",
     "text": [
      "Random Forest Model Accuracy :  82.03389830508473 %\n",
      "\n",
      "Confusion matrix :\n",
      "[[  5  47]\n",
      " [  6 237]]\n",
      "\n",
      "Classification report:\n",
      "              precision    recall  f1-score   support\n",
      "\n",
      "           0       0.45      0.10      0.16        52\n",
      "           1       0.83      0.98      0.90       243\n",
      "\n",
      "    accuracy                           0.82       295\n",
      "   macro avg       0.64      0.54      0.53       295\n",
      "weighted avg       0.77      0.82      0.77       295\n",
      "\n"
     ]
    }
   ],
   "source": [
    "# Random Forest classification\n",
    "\n",
    "from sklearn.ensemble import RandomForestClassifier\n",
    "\n",
    "RandomForest_model = RandomForestClassifier(n_estimators=250,\n",
    "                                            max_depth=8,\n",
    "                                            min_samples_leaf=10)\n",
    "\n",
    "RandomForest_model.fit(X_train, y_train)\n",
    "\n",
    "print('Random Forest Model Accuracy : ', RandomForest_model.score(X_test, y_test)*100, '%')\n",
    "\n",
    "prediction = RandomForest_model.predict(X_test)\n",
    "print('\\nConfusion matrix :')\n",
    "print(confusion_matrix(y_test, prediction))\n",
    "      \n",
    "print('\\nClassification report:')      \n",
    "print(classification_report(y_test, prediction))"
   ]
  },
  {
   "cell_type": "code",
   "execution_count": 60,
   "metadata": {},
   "outputs": [
    {
     "name": "stdout",
     "output_type": "stream",
     "text": [
      "Support Vector Classifier Accuracy :  82.37288135593221 %\n",
      "\n",
      "Confusion matrix :\n",
      "[[  0  52]\n",
      " [  0 243]]\n",
      "\n",
      "Classification report:\n",
      "              precision    recall  f1-score   support\n",
      "\n",
      "           0       0.00      0.00      0.00        52\n",
      "           1       0.82      1.00      0.90       243\n",
      "\n",
      "    accuracy                           0.82       295\n",
      "   macro avg       0.41      0.50      0.45       295\n",
      "weighted avg       0.68      0.82      0.74       295\n",
      "\n"
     ]
    },
    {
     "name": "stderr",
     "output_type": "stream",
     "text": [
      "C:\\ProgramData\\Anaconda3\\lib\\site-packages\\sklearn\\metrics\\_classification.py:1248: UndefinedMetricWarning: Precision and F-score are ill-defined and being set to 0.0 in labels with no predicted samples. Use `zero_division` parameter to control this behavior.\n",
      "  _warn_prf(average, modifier, msg_start, len(result))\n",
      "C:\\ProgramData\\Anaconda3\\lib\\site-packages\\sklearn\\metrics\\_classification.py:1248: UndefinedMetricWarning: Precision and F-score are ill-defined and being set to 0.0 in labels with no predicted samples. Use `zero_division` parameter to control this behavior.\n",
      "  _warn_prf(average, modifier, msg_start, len(result))\n",
      "C:\\ProgramData\\Anaconda3\\lib\\site-packages\\sklearn\\metrics\\_classification.py:1248: UndefinedMetricWarning: Precision and F-score are ill-defined and being set to 0.0 in labels with no predicted samples. Use `zero_division` parameter to control this behavior.\n",
      "  _warn_prf(average, modifier, msg_start, len(result))\n"
     ]
    }
   ],
   "source": [
    "# Support Vector Machine classification\n",
    "\n",
    "from sklearn.svm import SVC\n",
    "\n",
    "svc_model = SVC()\n",
    "\n",
    "svc_model.fit(X_train, y_train)\n",
    "\n",
    "print('Support Vector Classifier Accuracy : ', svc_model.score(X_test, y_test)*100, '%')\n",
    "\n",
    "prediction = svc_model.predict(X_test)\n",
    "print('\\nConfusion matrix :')\n",
    "print(confusion_matrix(y_test, prediction))\n",
    "      \n",
    "print('\\nClassification report:')      \n",
    "print(classification_report(y_test, prediction))"
   ]
  },
  {
   "cell_type": "code",
   "execution_count": 61,
   "metadata": {},
   "outputs": [
    {
     "name": "stdout",
     "output_type": "stream",
     "text": [
      "KNN Model Accuracy :  80.0 %\n",
      "\n",
      "Confusion matrix :\n",
      "[[  4  48]\n",
      " [ 11 232]]\n",
      "\n",
      "Classification report:\n",
      "              precision    recall  f1-score   support\n",
      "\n",
      "           0       0.27      0.08      0.12        52\n",
      "           1       0.83      0.95      0.89       243\n",
      "\n",
      "    accuracy                           0.80       295\n",
      "   macro avg       0.55      0.52      0.50       295\n",
      "weighted avg       0.73      0.80      0.75       295\n",
      "\n"
     ]
    }
   ],
   "source": [
    "# K Nearest Neighbor classification\n",
    "\n",
    "from sklearn.neighbors import KNeighborsClassifier\n",
    "\n",
    "knn_model = KNeighborsClassifier(n_neighbors = 7)\n",
    "\n",
    "knn_model.fit(X_train, y_train)\n",
    "\n",
    "print('KNN Model Accuracy : ', knn_model.score(X_test, y_test)*100, '%')\n",
    "\n",
    "prediction = knn_model.predict(X_test)\n",
    "print('\\nConfusion matrix :')\n",
    "print(confusion_matrix(y_test, prediction))\n",
    "      \n",
    "print('\\nClassification report:')      \n",
    "print(classification_report(y_test, prediction))"
   ]
  },
  {
   "cell_type": "code",
   "execution_count": 62,
   "metadata": {},
   "outputs": [
    {
     "name": "stdout",
     "output_type": "stream",
     "text": [
      "Requirement already satisfied: xgboost in c:\\programdata\\anaconda3\\lib\\site-packages (1.4.2)\n",
      "Requirement already satisfied: scipy in c:\\programdata\\anaconda3\\lib\\site-packages (from xgboost) (1.5.2)\n",
      "Requirement already satisfied: numpy in c:\\programdata\\anaconda3\\lib\\site-packages (from xgboost) (1.19.2)\n",
      "Note: you may need to restart the kernel to use updated packages.\n"
     ]
    }
   ],
   "source": [
    "pip install xgboost"
   ]
  },
  {
   "cell_type": "code",
   "execution_count": 63,
   "metadata": {},
   "outputs": [
    {
     "name": "stderr",
     "output_type": "stream",
     "text": [
      "C:\\ProgramData\\Anaconda3\\lib\\site-packages\\xgboost\\sklearn.py:1146: UserWarning: The use of label encoder in XGBClassifier is deprecated and will be removed in a future release. To remove this warning, do the following: 1) Pass option use_label_encoder=False when constructing XGBClassifier object; and 2) Encode your labels (y) as integers starting with 0, i.e. 0, 1, 2, ..., [num_class - 1].\n",
      "  warnings.warn(label_encoder_deprecation_msg, UserWarning)\n"
     ]
    },
    {
     "name": "stdout",
     "output_type": "stream",
     "text": [
      "[11:01:48] WARNING: C:/Users/Administrator/workspace/xgboost-win64_release_1.4.0/src/learner.cc:1095: Starting in XGBoost 1.3.0, the default evaluation metric used with the objective 'binary:logistic' was changed from 'error' to 'logloss'. Explicitly set eval_metric if you'd like to restore the old behavior.\n",
      "XGBoost Model Accuracy :  80.0 %\n",
      "\n",
      "Confusion matrix :\n",
      "[[ 14  38]\n",
      " [ 21 222]]\n",
      "\n",
      "Classification report:\n",
      "              precision    recall  f1-score   support\n",
      "\n",
      "           0       0.40      0.27      0.32        52\n",
      "           1       0.85      0.91      0.88       243\n",
      "\n",
      "    accuracy                           0.80       295\n",
      "   macro avg       0.63      0.59      0.60       295\n",
      "weighted avg       0.77      0.80      0.78       295\n",
      "\n"
     ]
    }
   ],
   "source": [
    "# XGBoost  classification\n",
    "from xgboost import XGBClassifier\n",
    "\n",
    "XGB_model = XGBClassifier()\n",
    "\n",
    "XGB_model.fit(X_train, y_train)\n",
    "\n",
    "print('XGBoost Model Accuracy : ', XGB_model.score(X_test, y_test)*100, '%')\n",
    "\n",
    "prediction = XGB_model.predict(X_test)\n",
    "print('\\nConfusion matrix :')\n",
    "print(confusion_matrix(y_test, prediction))\n",
    "      \n",
    "print('\\nClassification report:')      \n",
    "print(classification_report(y_test, prediction))"
   ]
  },
  {
   "cell_type": "markdown",
   "metadata": {},
   "source": [
    "# Balancing dataset"
   ]
  },
  {
   "cell_type": "code",
   "execution_count": 64,
   "metadata": {},
   "outputs": [],
   "source": [
    "# scaling all features\n",
    "from sklearn.preprocessing import MinMaxScaler\n",
    "MMS = MinMaxScaler()\n",
    "x_train_scaled = pd.DataFrame(MMS.fit_transform(X_train), columns=X_train.columns)\n",
    "x_test_scaled = pd.DataFrame(MMS.transform(X_test), columns=X_test.columns)"
   ]
  },
  {
   "cell_type": "code",
   "execution_count": 66,
   "metadata": {},
   "outputs": [],
   "source": [
    "# adding samples to minority class using SMOTE\n",
    "from imblearn.over_sampling import SMOTE\n",
    "oversample = SMOTE()\n",
    "\n",
    "x_train_oversam, y_train_oversam = oversample.fit_resample(x_train_scaled, y_train)\n",
    "x_test_oversam, y_test_oversam = oversample.fit_resample(x_test_scaled, y_test)"
   ]
  },
  {
   "cell_type": "code",
   "execution_count": 67,
   "metadata": {},
   "outputs": [
    {
     "data": {
      "text/plain": [
       "1    79.591837\n",
       "0    20.408163\n",
       "Name: Loan_Status, dtype: float64"
      ]
     },
     "execution_count": 67,
     "metadata": {},
     "output_type": "execute_result"
    }
   ],
   "source": [
    "# Original majority and minority class\n",
    "y_train.value_counts(normalize=True)*100"
   ]
  },
  {
   "cell_type": "code",
   "execution_count": 68,
   "metadata": {},
   "outputs": [
    {
     "data": {
      "text/plain": [
       "1    50.0\n",
       "0    50.0\n",
       "Name: Loan_Status, dtype: float64"
      ]
     },
     "execution_count": 68,
     "metadata": {},
     "output_type": "execute_result"
    }
   ],
   "source": [
    "# after using SMOTE \n",
    "y_train_oversam.value_counts(normalize=True)*100"
   ]
  },
  {
   "cell_type": "code",
   "execution_count": 69,
   "metadata": {},
   "outputs": [
    {
     "name": "stdout",
     "output_type": "stream",
     "text": [
      "Logistic Model Accuracy :  65.22633744855966 %\n",
      "\n",
      "Confusion matrix :\n",
      "[[117 126]\n",
      " [ 43 200]]\n",
      "\n",
      "Classification report:\n",
      "              precision    recall  f1-score   support\n",
      "\n",
      "           0       0.73      0.48      0.58       243\n",
      "           1       0.61      0.82      0.70       243\n",
      "\n",
      "    accuracy                           0.65       486\n",
      "   macro avg       0.67      0.65      0.64       486\n",
      "weighted avg       0.67      0.65      0.64       486\n",
      "\n"
     ]
    }
   ],
   "source": [
    "# Logistic Regression\n",
    "\n",
    "from sklearn.linear_model import LogisticRegression\n",
    "from sklearn.metrics import classification_report, accuracy_score, confusion_matrix\n",
    "\n",
    "log_model = LogisticRegression()\n",
    "log_model.fit(x_train_oversam, y_train_oversam)\n",
    "\n",
    "print('Logistic Model Accuracy : ', log_model.score(x_test_oversam, y_test_oversam)*100, '%')\n",
    "\n",
    "prediction = log_model.predict(x_test_oversam)\n",
    "print('\\nConfusion matrix :')\n",
    "print(confusion_matrix(y_test_oversam, prediction))\n",
    "      \n",
    "print('\\nClassification report:')      \n",
    "print(classification_report(y_test_oversam, prediction))"
   ]
  },
  {
   "cell_type": "code",
   "execution_count": 70,
   "metadata": {},
   "outputs": [
    {
     "name": "stdout",
     "output_type": "stream",
     "text": [
      "Random Forest Model Accuracy :  73.4567901234568 %\n",
      "\n",
      "Confusion matrix :\n",
      "[[160  83]\n",
      " [ 46 197]]\n",
      "\n",
      "Classification report:\n",
      "              precision    recall  f1-score   support\n",
      "\n",
      "           0       0.78      0.66      0.71       243\n",
      "           1       0.70      0.81      0.75       243\n",
      "\n",
      "    accuracy                           0.73       486\n",
      "   macro avg       0.74      0.73      0.73       486\n",
      "weighted avg       0.74      0.73      0.73       486\n",
      "\n"
     ]
    }
   ],
   "source": [
    "# Random Forest classification\n",
    "\n",
    "from sklearn.ensemble import RandomForestClassifier\n",
    "\n",
    "RandomForest_model = RandomForestClassifier(n_estimators=250,\n",
    "                                            max_depth=12,\n",
    "                                            min_samples_leaf=16)\n",
    "\n",
    "RandomForest_model.fit(x_train_oversam, y_train_oversam)\n",
    "\n",
    "print('Random Forest Model Accuracy : ', RandomForest_model.score(x_test_oversam, y_test_oversam)*100, '%')\n",
    "\n",
    "prediction = RandomForest_model.predict(x_test_oversam)\n",
    "print('\\nConfusion matrix :')\n",
    "print(confusion_matrix(y_test_oversam, prediction))\n",
    "      \n",
    "print('\\nClassification report:')      \n",
    "print(classification_report(y_test_oversam, prediction))"
   ]
  },
  {
   "cell_type": "code",
   "execution_count": 71,
   "metadata": {},
   "outputs": [
    {
     "name": "stdout",
     "output_type": "stream",
     "text": [
      "Decision Tree Model Accuracy :  65.84362139917695 %\n",
      "\n",
      "Confusion matrix :\n",
      "[[162  81]\n",
      " [ 85 158]]\n",
      "\n",
      "Classification report:\n",
      "              precision    recall  f1-score   support\n",
      "\n",
      "           0       0.66      0.67      0.66       243\n",
      "           1       0.66      0.65      0.66       243\n",
      "\n",
      "    accuracy                           0.66       486\n",
      "   macro avg       0.66      0.66      0.66       486\n",
      "weighted avg       0.66      0.66      0.66       486\n",
      "\n"
     ]
    }
   ],
   "source": [
    "# Decision Tree classification\n",
    "\n",
    "from sklearn.tree import DecisionTreeClassifier\n",
    "\n",
    "decision_model = DecisionTreeClassifier(max_depth=12,min_samples_split=8)\n",
    "\n",
    "decision_model.fit(x_train_oversam, y_train_oversam)\n",
    "\n",
    "print('Decision Tree Model Accuracy : ', decision_model.score(x_test_oversam, y_test_oversam)*100, '%')\n",
    "\n",
    "prediction = decision_model.predict(x_test_oversam)\n",
    "print('\\nConfusion matrix :')\n",
    "print(confusion_matrix(y_test_oversam, prediction))\n",
    "      \n",
    "print('\\nClassification report:')      \n",
    "print(classification_report(y_test_oversam, prediction))"
   ]
  },
  {
   "cell_type": "code",
   "execution_count": 72,
   "metadata": {},
   "outputs": [
    {
     "name": "stdout",
     "output_type": "stream",
     "text": [
      "Support Vector Classifier Accuracy :  62.55144032921811 %\n",
      "\n",
      "Confusion matrix :\n",
      "[[107 136]\n",
      " [ 46 197]]\n",
      "\n",
      "Classification report:\n",
      "              precision    recall  f1-score   support\n",
      "\n",
      "           0       0.70      0.44      0.54       243\n",
      "           1       0.59      0.81      0.68       243\n",
      "\n",
      "    accuracy                           0.63       486\n",
      "   macro avg       0.65      0.63      0.61       486\n",
      "weighted avg       0.65      0.63      0.61       486\n",
      "\n"
     ]
    }
   ],
   "source": [
    "# Support Vector Machine classification\n",
    "\n",
    "from sklearn.svm import SVC\n",
    "\n",
    "svc_model = SVC()\n",
    "\n",
    "svc_model.fit(x_train_oversam, y_train_oversam)\n",
    "\n",
    "print('Support Vector Classifier Accuracy : ', svc_model.score(x_test_oversam, y_test_oversam)*100, '%')\n",
    "\n",
    "prediction = svc_model.predict(x_test_oversam)\n",
    "print('\\nConfusion matrix :')\n",
    "print(confusion_matrix(y_test_oversam, prediction))\n",
    "      \n",
    "print('\\nClassification report:')      \n",
    "print(classification_report(y_test_oversam, prediction))"
   ]
  },
  {
   "cell_type": "code",
   "execution_count": 73,
   "metadata": {},
   "outputs": [
    {
     "name": "stdout",
     "output_type": "stream",
     "text": [
      "KNN Model Accuracy :  60.288065843621396 %\n",
      "\n",
      "Confusion matrix :\n",
      "[[128 115]\n",
      " [ 78 165]]\n",
      "\n",
      "Classification report:\n",
      "              precision    recall  f1-score   support\n",
      "\n",
      "           0       0.62      0.53      0.57       243\n",
      "           1       0.59      0.68      0.63       243\n",
      "\n",
      "    accuracy                           0.60       486\n",
      "   macro avg       0.61      0.60      0.60       486\n",
      "weighted avg       0.61      0.60      0.60       486\n",
      "\n"
     ]
    }
   ],
   "source": [
    "# K Nearest Neighbor classification\n",
    "\n",
    "from sklearn.neighbors import KNeighborsClassifier\n",
    "\n",
    "knn_model = KNeighborsClassifier(n_neighbors = 7)\n",
    "\n",
    "knn_model.fit(x_train_oversam, y_train_oversam)\n",
    "\n",
    "print('KNN Model Accuracy : ', knn_model.score(x_test_oversam, y_test_oversam)*100, '%')\n",
    "\n",
    "prediction = knn_model.predict(x_test_oversam)\n",
    "print('\\nConfusion matrix :')\n",
    "print(confusion_matrix(y_test_oversam, prediction))\n",
    "      \n",
    "print('\\nClassification report:')      \n",
    "print(classification_report(y_test_oversam, prediction))"
   ]
  },
  {
   "cell_type": "code",
   "execution_count": 74,
   "metadata": {},
   "outputs": [
    {
     "name": "stderr",
     "output_type": "stream",
     "text": [
      "C:\\ProgramData\\Anaconda3\\lib\\site-packages\\xgboost\\sklearn.py:1146: UserWarning: The use of label encoder in XGBClassifier is deprecated and will be removed in a future release. To remove this warning, do the following: 1) Pass option use_label_encoder=False when constructing XGBClassifier object; and 2) Encode your labels (y) as integers starting with 0, i.e. 0, 1, 2, ..., [num_class - 1].\n",
      "  warnings.warn(label_encoder_deprecation_msg, UserWarning)\n"
     ]
    },
    {
     "name": "stdout",
     "output_type": "stream",
     "text": [
      "[11:06:15] WARNING: C:/Users/Administrator/workspace/xgboost-win64_release_1.4.0/src/learner.cc:1095: Starting in XGBoost 1.3.0, the default evaluation metric used with the objective 'binary:logistic' was changed from 'error' to 'logloss'. Explicitly set eval_metric if you'd like to restore the old behavior.\n",
      "XGBoost Model Accuracy :  73.25102880658436 %\n",
      "\n",
      "Confusion matrix :\n",
      "[[163  80]\n",
      " [ 50 193]]\n",
      "\n",
      "Classification report:\n",
      "              precision    recall  f1-score   support\n",
      "\n",
      "           0       0.77      0.67      0.71       243\n",
      "           1       0.71      0.79      0.75       243\n",
      "\n",
      "    accuracy                           0.73       486\n",
      "   macro avg       0.74      0.73      0.73       486\n",
      "weighted avg       0.74      0.73      0.73       486\n",
      "\n"
     ]
    }
   ],
   "source": [
    "# XGBoost  classification\n",
    "\n",
    "from xgboost import XGBClassifier\n",
    "\n",
    "XGB_model = XGBClassifier()\n",
    "\n",
    "XGB_model.fit(x_train_oversam, y_train_oversam)\n",
    "\n",
    "print('XGBoost Model Accuracy : ', XGB_model.score(x_test_oversam, y_test_oversam)*100, '%')\n",
    "\n",
    "prediction = XGB_model.predict(x_test_oversam)\n",
    "print('\\nConfusion matrix :')\n",
    "print(confusion_matrix(y_test_oversam, prediction))\n",
    "      \n",
    "print('\\nClassification report:')      \n",
    "print(classification_report(y_test_oversam, prediction))"
   ]
  },
  {
   "cell_type": "code",
   "execution_count": null,
   "metadata": {},
   "outputs": [],
   "source": []
  },
  {
   "cell_type": "code",
   "execution_count": null,
   "metadata": {},
   "outputs": [],
   "source": []
  },
  {
   "cell_type": "markdown",
   "metadata": {},
   "source": [
    "# Hold out Validation Approach train_test_split"
   ]
  },
  {
   "cell_type": "markdown",
   "metadata": {},
   "source": [
    "DecisionTreemodel"
   ]
  },
  {
   "cell_type": "code",
   "execution_count": null,
   "metadata": {},
   "outputs": [],
   "source": [
    "from sklearn.tree import DecisionTreeClassifier\n",
    "from sklearn.model_selection import train_test_split\n",
    "\n",
    "\n",
    "X_train, X_test, y_train, y_test = train_test_split(fullData.drop(['Loan_Status','Loan_ID'], axis = 1),\n",
    "                                                    fullData['Loan_Status'],\n",
    "                                                    test_size=0.30, \n",
    "                                                    random_state=0)\n",
    "model=DecisionTreeClassifier()\n",
    "model.fit(X_train,y_train)\n",
    "result=model.score(X_test,y_test)\n",
    "print(result*100 )\n"
   ]
  },
  {
   "cell_type": "markdown",
   "metadata": {},
   "source": [
    "DecisionTreemodel accuracy=77.28813559322035%"
   ]
  },
  {
   "cell_type": "markdown",
   "metadata": {},
   "source": [
    "# K-Fold Cross Validation"
   ]
  },
  {
   "cell_type": "markdown",
   "metadata": {},
   "source": [
    "K-Fold Cross Validation for LogisticRegression"
   ]
  },
  {
   "cell_type": "code",
   "execution_count": 76,
   "metadata": {},
   "outputs": [
    {
     "name": "stdout",
     "output_type": "stream",
     "text": [
      "[76.8115942  83.21167883 86.13138686 75.91240876 76.64233577]\n",
      "79.74188088437532\n"
     ]
    }
   ],
   "source": [
    "#LogisticRegression\n",
    "model=LogisticRegression()\n",
    "kfold_validation=KFold(5)\n",
    "results=cross_val_score(model,X,y,cv=kfold_validation)\n",
    "print(results*100)\n",
    "\n",
    "print(np.mean(results)*100)"
   ]
  },
  {
   "cell_type": "markdown",
   "metadata": {},
   "source": [
    "Accuracy=81.13%\n",
    "\n",
    "Cross-Validation Score : 79.76%"
   ]
  },
  {
   "cell_type": "markdown",
   "metadata": {},
   "source": [
    "K-Fold Cross Validation for DecisionTree"
   ]
  },
  {
   "cell_type": "code",
   "execution_count": 64,
   "metadata": {},
   "outputs": [],
   "source": [
    "#DecisionTree\n",
    "from sklearn.model_selection import KFold\n",
    "model=DecisionTreeClassifier()\n",
    "kfold_validation=KFold(5)\n"
   ]
  },
  {
   "cell_type": "code",
   "execution_count": 65,
   "metadata": {},
   "outputs": [
    {
     "name": "stdout",
     "output_type": "stream",
     "text": [
      "[74.63768116 75.18248175 75.91240876 68.61313869 75.18248175]\n",
      "73.90563842166509\n"
     ]
    }
   ],
   "source": [
    "import numpy as np\n",
    "from sklearn.model_selection import cross_val_score\n",
    "results=cross_val_score(model,X,y,cv=kfold_validation)\n",
    "print(results*100)\n",
    "\n",
    "print(np.mean(results)*100)"
   ]
  },
  {
   "cell_type": "markdown",
   "metadata": {},
   "source": [
    "StratifiedKFold for DecisionTree"
   ]
  },
  {
   "cell_type": "code",
   "execution_count": 77,
   "metadata": {},
   "outputs": [
    {
     "name": "stdout",
     "output_type": "stream",
     "text": [
      "[78.26086957 75.18248175 73.72262774 74.45255474 72.26277372]\n",
      "74.77626150428435\n"
     ]
    }
   ],
   "source": [
    "from sklearn.model_selection import StratifiedKFold\n",
    "skfold=StratifiedKFold(n_splits=5)\n",
    "model=DecisionTreeClassifier()\n",
    "results=cross_val_score(model,X,y,cv=skfold)\n",
    "print(results*100)\n",
    "\n",
    "print(np.mean(results)*100)\n"
   ]
  },
  {
   "cell_type": "markdown",
   "metadata": {},
   "source": [
    "StratifiedKFold for LogisticRegression"
   ]
  },
  {
   "cell_type": "code",
   "execution_count": 78,
   "metadata": {},
   "outputs": [
    {
     "name": "stdout",
     "output_type": "stream",
     "text": [
      "[80.43478261 81.75182482 83.21167883 80.2919708  78.10218978]\n",
      "80.75848936845446\n"
     ]
    },
    {
     "name": "stderr",
     "output_type": "stream",
     "text": [
      "C:\\ProgramData\\Anaconda3\\lib\\site-packages\\sklearn\\linear_model\\_logistic.py:762: ConvergenceWarning: lbfgs failed to converge (status=1):\n",
      "STOP: TOTAL NO. of ITERATIONS REACHED LIMIT.\n",
      "\n",
      "Increase the number of iterations (max_iter) or scale the data as shown in:\n",
      "    https://scikit-learn.org/stable/modules/preprocessing.html\n",
      "Please also refer to the documentation for alternative solver options:\n",
      "    https://scikit-learn.org/stable/modules/linear_model.html#logistic-regression\n",
      "  n_iter_i = _check_optimize_result(\n",
      "C:\\ProgramData\\Anaconda3\\lib\\site-packages\\sklearn\\linear_model\\_logistic.py:762: ConvergenceWarning: lbfgs failed to converge (status=1):\n",
      "STOP: TOTAL NO. of ITERATIONS REACHED LIMIT.\n",
      "\n",
      "Increase the number of iterations (max_iter) or scale the data as shown in:\n",
      "    https://scikit-learn.org/stable/modules/preprocessing.html\n",
      "Please also refer to the documentation for alternative solver options:\n",
      "    https://scikit-learn.org/stable/modules/linear_model.html#logistic-regression\n",
      "  n_iter_i = _check_optimize_result(\n",
      "C:\\ProgramData\\Anaconda3\\lib\\site-packages\\sklearn\\linear_model\\_logistic.py:762: ConvergenceWarning: lbfgs failed to converge (status=1):\n",
      "STOP: TOTAL NO. of ITERATIONS REACHED LIMIT.\n",
      "\n",
      "Increase the number of iterations (max_iter) or scale the data as shown in:\n",
      "    https://scikit-learn.org/stable/modules/preprocessing.html\n",
      "Please also refer to the documentation for alternative solver options:\n",
      "    https://scikit-learn.org/stable/modules/linear_model.html#logistic-regression\n",
      "  n_iter_i = _check_optimize_result(\n"
     ]
    }
   ],
   "source": [
    "from sklearn.model_selection import StratifiedKFold\n",
    "skfold=StratifiedKFold(n_splits=5)\n",
    "model=LogisticRegression()\n",
    "results=cross_val_score(model,X,y,cv=skfold)\n",
    "print(results*100)\n",
    "\n",
    "print(np.mean(results)*100)"
   ]
  },
  {
   "cell_type": "markdown",
   "metadata": {},
   "source": [
    "# Repeated Random Test_Train_Split\n",
    "# This technique is a hybrid of traditional train_test_splitting & KFold cross validation methods.In this Technique we create random split the data training_test manner & repeat the process of splitting and evolating the Algorithm multiple times just like crossvalidation methods"
   ]
  },
  {
   "cell_type": "code",
   "execution_count": 79,
   "metadata": {},
   "outputs": [
    {
     "name": "stdout",
     "output_type": "stream",
     "text": [
      "[75.24271845 79.12621359 72.81553398 77.66990291 76.69902913]\n",
      "76.31067961165049\n"
     ]
    }
   ],
   "source": [
    "#Decision Tree\n",
    "from sklearn.model_selection import StratifiedShuffleSplit\n",
    "model=DecisionTreeClassifier()\n",
    "ssplit=StratifiedShuffleSplit(n_splits=5,test_size=0.30)\n",
    "results=cross_val_score(model,X,y,cv=ssplit)\n",
    "print(results*100)\n",
    "\n",
    "print(np.mean(results)*100)"
   ]
  },
  {
   "cell_type": "code",
   "execution_count": 80,
   "metadata": {},
   "outputs": [
    {
     "name": "stdout",
     "output_type": "stream",
     "text": [
      "[83.49514563 83.00970874 80.09708738 81.06796117 77.66990291]\n",
      "81.06796116504853\n"
     ]
    },
    {
     "name": "stderr",
     "output_type": "stream",
     "text": [
      "C:\\ProgramData\\Anaconda3\\lib\\site-packages\\sklearn\\linear_model\\_logistic.py:762: ConvergenceWarning: lbfgs failed to converge (status=1):\n",
      "STOP: TOTAL NO. of ITERATIONS REACHED LIMIT.\n",
      "\n",
      "Increase the number of iterations (max_iter) or scale the data as shown in:\n",
      "    https://scikit-learn.org/stable/modules/preprocessing.html\n",
      "Please also refer to the documentation for alternative solver options:\n",
      "    https://scikit-learn.org/stable/modules/linear_model.html#logistic-regression\n",
      "  n_iter_i = _check_optimize_result(\n",
      "C:\\ProgramData\\Anaconda3\\lib\\site-packages\\sklearn\\linear_model\\_logistic.py:762: ConvergenceWarning: lbfgs failed to converge (status=1):\n",
      "STOP: TOTAL NO. of ITERATIONS REACHED LIMIT.\n",
      "\n",
      "Increase the number of iterations (max_iter) or scale the data as shown in:\n",
      "    https://scikit-learn.org/stable/modules/preprocessing.html\n",
      "Please also refer to the documentation for alternative solver options:\n",
      "    https://scikit-learn.org/stable/modules/linear_model.html#logistic-regression\n",
      "  n_iter_i = _check_optimize_result(\n"
     ]
    }
   ],
   "source": [
    "#LogisticRegression\n",
    "from sklearn.model_selection import StratifiedShuffleSplit\n",
    "model=LogisticRegression()\n",
    "ssplit=StratifiedShuffleSplit(n_splits=5,test_size=0.30)\n",
    "results=cross_val_score(model,X,y,cv=ssplit)\n",
    "print(results*100)\n",
    "\n",
    "print(np.mean(results)*100)"
   ]
  },
  {
   "cell_type": "code",
   "execution_count": null,
   "metadata": {},
   "outputs": [],
   "source": []
  }
 ],
 "metadata": {
  "kernelspec": {
   "display_name": "Python 3",
   "language": "python",
   "name": "python3"
  },
  "language_info": {
   "codemirror_mode": {
    "name": "ipython",
    "version": 3
   },
   "file_extension": ".py",
   "mimetype": "text/x-python",
   "name": "python",
   "nbconvert_exporter": "python",
   "pygments_lexer": "ipython3",
   "version": "3.8.5"
  }
 },
 "nbformat": 4,
 "nbformat_minor": 4
}
